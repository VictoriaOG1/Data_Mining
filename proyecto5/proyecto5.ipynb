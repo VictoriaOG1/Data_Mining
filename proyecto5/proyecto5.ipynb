{
 "cells": [
  {
   "cell_type": "code",
   "execution_count": 1,
   "metadata": {},
   "outputs": [],
   "source": [
    "import pandas as pd\n",
    "from sklearn.model_selection import StratifiedKFold\n",
    "from sklearn.naive_bayes import GaussianNB\n",
    "from sklearn.metrics import accuracy_score,recall_score,precision_score,roc_auc_score\n",
    "from sklearn.preprocessing import MinMaxScaler"
   ]
  },
  {
   "cell_type": "code",
   "execution_count": 2,
   "metadata": {},
   "outputs": [
    {
     "name": "stdout",
     "output_type": "stream",
     "text": [
      "       0      1      2      3      4      5      6      7      8      9  ...  \\\n",
      "0 -0.536  0.292 -0.684  0.123 -0.118  0.346 -0.308 -0.113  0.401 -0.399  ...   \n",
      "1 -0.496 -0.298 -0.529  0.073 -0.072  0.107 -0.316 -0.066 -0.168 -0.099  ...   \n",
      "2  0.008 -0.031 -0.240  0.178 -0.120  0.317 -0.481  0.031 -0.077  0.063  ...   \n",
      "3 -0.188 -0.180 -0.062 -0.104 -0.136 -0.061 -0.216 -0.143  0.068 -0.189  ...   \n",
      "4  0.038  0.155 -0.203 -0.088 -0.084 -0.164 -0.145 -0.168  0.008  0.143  ...   \n",
      "\n",
      "      61     62     63     64     65     66     67     68     69  label  \n",
      "0 -0.135 -0.063 -0.410 -0.223 -0.599 -0.136 -0.329 -0.132 -0.266      0  \n",
      "1  0.189  0.007 -0.362 -0.151 -0.338 -0.031 -0.159 -0.097 -0.131      0  \n",
      "2 -0.035  0.101 -0.098 -0.172 -0.290  0.033 -0.342 -0.321 -0.238      0  \n",
      "3  0.146 -0.145 -0.527 -0.292 -0.663 -0.078 -0.194 -0.151 -0.268      0  \n",
      "4  0.019 -0.084  0.164 -0.165 -0.126 -0.112  0.029 -0.138  0.148      1  \n",
      "\n",
      "[5 rows x 71 columns]\n"
     ]
    }
   ],
   "source": [
    "#Read initial data\n",
    "file_path='rtfDataSet.csv'\n",
    "df = pd.read_csv(file_path)\n",
    "print(df.head())"
   ]
  },
  {
   "cell_type": "code",
   "execution_count": 3,
   "metadata": {},
   "outputs": [],
   "source": [
    "#Reduce to sets and normalized\n",
    "set_1=[1, 5, 10, 13, 14, 16, 17, 19, 25, 26, 29, 30, 36, 46, 51, 57]\n",
    "set_2=[2, 5, 9, 10, 16, 21, 28, 34, 38, 48, 49, 55, 61, 62, 64]\n",
    "set_3=[1, 2, 7, 8, 9, 10, 19, 23, 28, 34, 35, 36, 42, 44, 45, 47, 48, 49, 53, 55, 56, 57, 58, 63, 64, 65, 67]\n",
    "set_4=[2, 3, 12, 16, 21, 23, 28, 34, 35, 45, 48, 50, 53, 61]\n",
    "set_5=[2, 10, 11, 12, 14, 22, 36, 41, 46, 50, 55, 56, 57, 58, 65]\n",
    "\n",
    "reduced_df_1=df.iloc[:,set_1]\n",
    "reduced_df_2=df.iloc[:,set_2]\n",
    "reduced_df_3=df.iloc[:,set_3]\n",
    "reduced_df_4=df.iloc[:,set_4]\n",
    "reduced_df_5=df.iloc[:,set_5]\n",
    "y = df.iloc[:, -1]\n",
    "\n",
    "scaler = MinMaxScaler()\n",
    "reduced_df_1 = scaler.fit_transform(reduced_df_1)\n",
    "reduced_df_2 = scaler.fit_transform(reduced_df_2)\n",
    "reduced_df_3 = scaler.fit_transform(reduced_df_3)\n",
    "reduced_df_4 = scaler.fit_transform(reduced_df_4)\n",
    "reduced_df_5 = scaler.fit_transform(reduced_df_5)"
   ]
  },
  {
   "cell_type": "code",
   "execution_count": 4,
   "metadata": {},
   "outputs": [],
   "source": [
    "#Array of sets\n",
    "reduced_array=[reduced_df_1,reduced_df_2,reduced_df_3,reduced_df_4,reduced_df_5]"
   ]
  },
  {
   "cell_type": "code",
   "execution_count": 5,
   "metadata": {},
   "outputs": [
    {
     "name": "stdout",
     "output_type": "stream",
     "text": [
      "Set:  1\n",
      "Mean precision:  0.6721992481203009\n",
      "Mean recall:  0.6380952380952382\n",
      "Mean accuracy:  0.6539102564102566\n",
      "Set:  2\n",
      "Mean precision:  0.681001827885998\n",
      "Mean recall:  0.727857142857143\n",
      "Mean accuracy:  0.6841666666666667\n",
      "Set:  3\n",
      "Mean precision:  0.6901150579016712\n",
      "Mean recall:  0.7228571428571428\n",
      "Mean accuracy:  0.6941666666666667\n",
      "Set:  4\n",
      "Mean precision:  0.678145316840969\n",
      "Mean recall:  0.7730952380952381\n",
      "Mean accuracy:  0.6941666666666667\n",
      "Set:  5\n",
      "Mean precision:  0.6654375288242566\n",
      "Mean recall:  0.7221428571428572\n",
      "Mean accuracy:  0.6716025641025641\n"
     ]
    }
   ],
   "source": [
    "#Creacion dinamica de folds y clasificacion y metricas\n",
    "stratified_kfold = StratifiedKFold(n_splits=10, shuffle=True, random_state=42)\n",
    "counter=1\n",
    "for X in reduced_array:\n",
    "    print(\"Set: \",counter)\n",
    "    mean_accuracy=0\n",
    "    mean_precision=0\n",
    "    mean_recall=0\n",
    "    for fold,(train_index,val_index) in enumerate(stratified_kfold.split(X,y)):\n",
    "        X_train,X_val=X[train_index],X[val_index]\n",
    "        y_train,y_val=y[train_index],y[val_index]\n",
    "\n",
    "        clf = GaussianNB()\n",
    "        clf.fit(X_train, y_train)\n",
    "        y_pred = clf.predict(X_val)\n",
    "\n",
    "        accuracy = accuracy_score(y_val, y_pred)\n",
    "        precision = precision_score(y_val, y_pred)\n",
    "        recall = recall_score(y_val, y_pred)\n",
    "        #auc=roc_auc_score(y_val, y_pred) Esto no sirve falta AUC/ROC\n",
    "        mean_accuracy+=accuracy\n",
    "        mean_precision+=precision\n",
    "        mean_recall+=recall\n",
    "\n",
    "    mean_accuracy=mean_accuracy/10\n",
    "    mean_precision=mean_precision/10\n",
    "    mean_recall=mean_recall/10\n",
    "    print(\"Mean precision: \",mean_precision)\n",
    "    print(\"Mean recall: \",mean_recall)\n",
    "    print(\"Mean accuracy: \",mean_accuracy)\n",
    "    counter+=1"
   ]
  }
 ],
 "metadata": {
  "kernelspec": {
   "display_name": "Python 3",
   "language": "python",
   "name": "python3"
  },
  "language_info": {
   "codemirror_mode": {
    "name": "ipython",
    "version": 3
   },
   "file_extension": ".py",
   "mimetype": "text/x-python",
   "name": "python",
   "nbconvert_exporter": "python",
   "pygments_lexer": "ipython3",
   "version": "3.9.13"
  }
 },
 "nbformat": 4,
 "nbformat_minor": 2
}
