{
 "cells": [
  {
   "cell_type": "code",
   "execution_count": 5,
   "metadata": {},
   "outputs": [
    {
     "name": "stdout",
     "output_type": "stream",
     "text": [
      "['35_3.txt', '74_3.txt', '20_1.txt', '51_1.txt', '96_1.txt', '46_4.txt', '90_4.txt', '75_1.txt', '79_4.txt', '9_1.txt', '11_3.txt', '71_1.txt', '16_3.txt', '53_3.txt', '72_4.txt', '0_3.txt', '92_3.txt', '25_1.txt', '37_3.txt', '83_3.txt', '64_1.txt', '22_1.txt', '48_4.txt', '1_1.txt', '34_1.txt', '94_1.txt', '4_4.txt', '87_4.txt', '2_1.txt', '70_2.txt', '95_3.txt', '67_2.txt', '91_1.txt', '99_1.txt', '69_4.txt', '42_3.txt', '36_4.txt', '6_1.txt', '52_1.txt', '88_2.txt', '23_3.txt', '30_1.txt', '29_4.txt', '10_2.txt', '31_1.txt', '56_3.txt', '65_4.txt', '18_3.txt', '40_3.txt', '86_4.txt', '89_2.txt', '78_4.txt', '61_3.txt', '77_4.txt', '57_4.txt', '27_1.txt', '76_3.txt', '93_1.txt', '28_2.txt', '5_3.txt', '98_1.txt', '44_2.txt', '41_1.txt', '63_1.txt', '17_3.txt', '97_1.txt', '85_2.txt', '12_1.txt', '32_3.txt', '55_1.txt', '73_1.txt', '84_3.txt', '3_4.txt', '38_2.txt', '19_4.txt', '21_4.txt', '47_2.txt', '7_3.txt', '60_4.txt', '81_1.txt', '66_4.txt', '68_2.txt', '54_1.txt', '82_1.txt', '80_3.txt', '8_4.txt', '50_4.txt', '15_1.txt', '62_2.txt', '26_3.txt', '33_3.txt', '58_3.txt', '14_2.txt', '59_3.txt', '39_2.txt', '45_2.txt', '13_2.txt', '49_4.txt', '24_1.txt', '43_4.txt']\n"
     ]
    }
   ],
   "source": [
    "import os\n",
    "import random\n",
    "##Escoge 100 archivos al azar\n",
    "folder_path = \"reviews\"  \n",
    "all_files = os.listdir(folder_path)\n",
    "random_files = random.sample(all_files, 100)\n",
    "print(random_files)"
   ]
  },
  {
   "cell_type": "code",
   "execution_count": 6,
   "metadata": {},
   "outputs": [
    {
     "name": "stdout",
     "output_type": "stream",
     "text": [
      "{'3': ['35_3.txt', '74_3.txt', '11_3.txt', '16_3.txt', '53_3.txt', '0_3.txt', '92_3.txt', '37_3.txt', '83_3.txt', '95_3.txt', '42_3.txt', '23_3.txt', '56_3.txt', '18_3.txt', '40_3.txt', '61_3.txt', '76_3.txt', '5_3.txt', '17_3.txt', '32_3.txt', '84_3.txt', '7_3.txt', '80_3.txt', '26_3.txt', '33_3.txt', '58_3.txt', '59_3.txt'], '1': ['20_1.txt', '51_1.txt', '96_1.txt', '75_1.txt', '9_1.txt', '71_1.txt', '25_1.txt', '64_1.txt', '22_1.txt', '1_1.txt', '34_1.txt', '94_1.txt', '2_1.txt', '91_1.txt', '99_1.txt', '6_1.txt', '52_1.txt', '30_1.txt', '31_1.txt', '27_1.txt', '93_1.txt', '98_1.txt', '41_1.txt', '63_1.txt', '97_1.txt', '12_1.txt', '55_1.txt', '73_1.txt', '81_1.txt', '54_1.txt', '82_1.txt', '15_1.txt', '24_1.txt'], '4': ['46_4.txt', '90_4.txt', '79_4.txt', '72_4.txt', '48_4.txt', '4_4.txt', '87_4.txt', '69_4.txt', '36_4.txt', '29_4.txt', '65_4.txt', '86_4.txt', '78_4.txt', '77_4.txt', '57_4.txt', '3_4.txt', '19_4.txt', '21_4.txt', '60_4.txt', '66_4.txt', '8_4.txt', '50_4.txt', '49_4.txt', '43_4.txt'], '2': ['70_2.txt', '67_2.txt', '88_2.txt', '10_2.txt', '89_2.txt', '28_2.txt', '44_2.txt', '85_2.txt', '38_2.txt', '47_2.txt', '68_2.txt', '62_2.txt', '14_2.txt', '39_2.txt', '45_2.txt', '13_2.txt']}\n"
     ]
    }
   ],
   "source": [
    "##Creacion de diccionario de peliculas\n",
    "movies_dict = {}\n",
    "for file in random_files:\n",
    "    new_file = file.split('_')\n",
    "    new_new_file = new_file[1].split('.')\n",
    "    key = new_new_file[0]\n",
    "    if key in movies_dict:\n",
    "        movies_dict[key].append(file)\n",
    "    else:\n",
    "        movies_dict[key] = [file]\n",
    "print(movies_dict)\n"
   ]
  },
  {
   "cell_type": "code",
   "execution_count": 7,
   "metadata": {},
   "outputs": [
    {
     "name": "stderr",
     "output_type": "stream",
     "text": [
      "[nltk_data] Downloading package punkt to\n",
      "[nltk_data]     C:\\Users\\DELL\\AppData\\Roaming\\nltk_data...\n",
      "[nltk_data]   Package punkt is already up-to-date!\n",
      "[nltk_data] Downloading package stopwords to\n",
      "[nltk_data]     C:\\Users\\DELL\\AppData\\Roaming\\nltk_data...\n",
      "[nltk_data]   Package stopwords is already up-to-date!\n",
      "[nltk_data] Downloading package wordnet to\n",
      "[nltk_data]     C:\\Users\\DELL\\AppData\\Roaming\\nltk_data...\n",
      "[nltk_data]   Package wordnet is already up-to-date!\n"
     ]
    },
    {
     "name": "stdout",
     "output_type": "stream",
     "text": [
      "Lemmatized files have been created in the 'lemmatized_reviews' directory.\n"
     ]
    }
   ],
   "source": [
    "import nltk\n",
    "from nltk.corpus import stopwords\n",
    "from nltk.stem import WordNetLemmatizer\n",
    "import os\n",
    "import string\n",
    "\n",
    "nltk.download('punkt')\n",
    "nltk.download('stopwords')\n",
    "nltk.download('wordnet')\n",
    "\n",
    "lemmatizer = WordNetLemmatizer()\n",
    "directory = 'reviews/'\n",
    "\n",
    "for movie in movies_dict:\n",
    "    moviechosen = movies_dict[movie]\n",
    "    \n",
    "    lemmatized_directory = 'lemmatized_reviews/'\n",
    "    os.makedirs(lemmatized_directory, exist_ok=True)\n",
    "    \n",
    "    for file in moviechosen:\n",
    "        path = os.path.join(directory, file)\n",
    "        \n",
    "        with open(path, 'r') as archivo:\n",
    "            text = archivo.read()\n",
    "            text=text.lower()\n",
    "            text=text.replace(\"< br / >\",\"\")\n",
    "            text=text.replace(\"<br />\",\"\")\n",
    "            text = text.translate(str.maketrans('', '', string.punctuation))\n",
    "            tokens = nltk.word_tokenize(text)\n",
    "            stop_words = set(stopwords.words('english'))\n",
    "            filtered_tokens = [word for word in tokens if word.lower() not in stop_words]\n",
    "            lemmatized_tokens = [lemmatizer.lemmatize(word) for word in filtered_tokens]\n",
    "            lemmatized_text = ' '.join(lemmatized_tokens)\n",
    "            \n",
    "            # Create a new file with lemmatized content\n",
    "            lemmatized_path = os.path.join(lemmatized_directory, file)\n",
    "            with open(lemmatized_path, \"w\") as output_file:\n",
    "                output_file.write(lemmatized_text)\n",
    "\n",
    "print(\"Lemmatized files have been created in the 'lemmatized_reviews' directory.\")\n"
   ]
  },
  {
   "cell_type": "code",
   "execution_count": 8,
   "metadata": {},
   "outputs": [
    {
     "name": "stdout",
     "output_type": "stream",
     "text": [
      "Files have been grouped and written to separate output files.\n"
     ]
    }
   ],
   "source": [
    "import os\n",
    "\n",
    "input_folder = 'lemmatized_reviews/'\n",
    "output_folder = 'reviews_by_movie/'\n",
    "\n",
    "if not os.path.exists(output_folder):\n",
    "    os.makedirs(output_folder)\n",
    "\n",
    "file_contents = {}\n",
    "for filename in os.listdir(input_folder):\n",
    "    file_number = filename.split(\"_\")[1].split('.')[0]\n",
    "\n",
    "    with open(os.path.join(input_folder, filename), 'r') as input_file:\n",
    "        file_content = input_file.read()\n",
    "\n",
    "    if file_number not in file_contents:\n",
    "        file_contents[file_number] = []\n",
    "    file_contents[file_number].append(file_content)\n",
    "\n",
    "for file_number, contents in file_contents.items():\n",
    "    output_file_path = os.path.join(output_folder, f\"{file_number}.txt\")\n",
    "    with open(output_file_path, 'w') as output_file:\n",
    "        output_file.write(\"\\n\".join(contents))\n",
    "\n",
    "print(\"Files have been grouped and written to separate output files.\")"
   ]
  },
  {
   "cell_type": "code",
   "execution_count": 15,
   "metadata": {},
   "outputs": [],
   "source": [
    "from collections import Counter\n",
    "import string\n",
    "import os\n",
    "\n",
    "def get_term_frequency_in_file(source_file_path):\n",
    "    wordcount = {}\n",
    "    with open(source_file_path) as f:\n",
    "        translator = str.maketrans('', '', string.punctuation)  # Create a translation table\n",
    "        for line in f:\n",
    "            line = line.lower().translate(translator)  # Use the translation table to remove punctuation\n",
    "            this_wordcount = Counter(line.split())\n",
    "            wordcount = add_merge_two_dict(wordcount, this_wordcount)\n",
    "    return wordcount\n",
    "\n",
    "def add_merge_two_dict(x, y):\n",
    "    return { k: x.get(k, 0) + y.get(k, 0) for k in set(x) | set(y) }\n",
    "\n",
    "input_folder = 'reviews_by_movie/'\n",
    "output_folder = 'word_count_by_movie/'\n",
    "\n",
    "if not os.path.exists(output_folder):\n",
    "    os.makedirs(output_folder)\n",
    "\n",
    "for filename in os.listdir(input_folder):\n",
    "    file_number = filename.split('.')[0]\n",
    "\n",
    "    wordCount = get_term_frequency_in_file(input_folder + filename)\n",
    "\n",
    "    output_file_path = os.path.join(output_folder, f\"{file_number}_wordcount.txt\")\n",
    "    with open(output_file_path, 'w') as output_file:\n",
    "        output_file.write(str(wordCount))\n",
    "\n",
    "print(\"Los vectores fueron escritos correctamente\")"
   ]
  }
 ],
 "metadata": {
  "kernelspec": {
   "display_name": "base",
   "language": "python",
   "name": "python3"
  },
  "language_info": {
   "codemirror_mode": {
    "name": "ipython",
    "version": 3
   },
   "file_extension": ".py",
   "mimetype": "text/x-python",
   "name": "python",
   "nbconvert_exporter": "python",
   "pygments_lexer": "ipython3",
   "version": "3.9.13"
  },
  "orig_nbformat": 4
 },
 "nbformat": 4,
 "nbformat_minor": 2
}
