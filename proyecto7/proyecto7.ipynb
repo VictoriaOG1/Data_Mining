{
 "cells": [
  {
   "cell_type": "code",
   "execution_count": 1,
   "metadata": {},
   "outputs": [],
   "source": [
    "import pandas as pd\n",
    "import tensorflow as tf\n",
    "from scikeras.wrappers import KerasClassifier \n",
    "from sklearn.model_selection import GridSearchCV\n",
    "from sklearn.model_selection import StratifiedKFold\n",
    "from sklearn.preprocessing import MinMaxScaler\n",
    "from sklearn.metrics import accuracy_score, precision_score, recall_score, roc_auc_score, confusion_matrix, roc_curve, precision_recall_curve, auc\n",
    "import numpy as np\n",
    "import matplotlib.pyplot as plt"
   ]
  },
  {
   "cell_type": "code",
   "execution_count": 2,
   "metadata": {},
   "outputs": [
    {
     "name": "stdout",
     "output_type": "stream",
     "text": [
      "       0      1      2      3      4      5      6      7      8      9  ...  \\\n",
      "0 -0.536  0.292 -0.684  0.123 -0.118  0.346 -0.308 -0.113  0.401 -0.399  ...   \n",
      "1 -0.496 -0.298 -0.529  0.073 -0.072  0.107 -0.316 -0.066 -0.168 -0.099  ...   \n",
      "2  0.008 -0.031 -0.240  0.178 -0.120  0.317 -0.481  0.031 -0.077  0.063  ...   \n",
      "3 -0.188 -0.180 -0.062 -0.104 -0.136 -0.061 -0.216 -0.143  0.068 -0.189  ...   \n",
      "4  0.038  0.155 -0.203 -0.088 -0.084 -0.164 -0.145 -0.168  0.008  0.143  ...   \n",
      "\n",
      "      61     62     63     64     65     66     67     68     69  label  \n",
      "0 -0.135 -0.063 -0.410 -0.223 -0.599 -0.136 -0.329 -0.132 -0.266      0  \n",
      "1  0.189  0.007 -0.362 -0.151 -0.338 -0.031 -0.159 -0.097 -0.131      0  \n",
      "2 -0.035  0.101 -0.098 -0.172 -0.290  0.033 -0.342 -0.321 -0.238      0  \n",
      "3  0.146 -0.145 -0.527 -0.292 -0.663 -0.078 -0.194 -0.151 -0.268      0  \n",
      "4  0.019 -0.084  0.164 -0.165 -0.126 -0.112  0.029 -0.138  0.148      1  \n",
      "\n",
      "[5 rows x 71 columns]\n"
     ]
    }
   ],
   "source": [
    "#Read initial data\n",
    "file_path='rtfDataSet.csv'\n",
    "df = pd.read_csv(file_path)\n",
    "print(df.head())"
   ]
  },
  {
   "cell_type": "code",
   "execution_count": 3,
   "metadata": {},
   "outputs": [],
   "source": [
    "#Reduce to sets and normalized\n",
    "set_2=[2, 5, 9, 10, 16, 21, 28, 34, 38, 48, 49, 55, 61, 62, 64]\n",
    "set_3=[1, 2, 7, 8, 9, 10, 19, 23, 28, 34, 35, 36, 42, 44, 45, 47, 48, 49, 53, 55, 56, 57, 58, 63, 64, 65, 67]\n",
    "\n",
    "reduced_df_2=df.iloc[:,set_2]\n",
    "reduced_df_3=df.iloc[:,set_3]\n",
    "\n",
    "y = df.iloc[:, -1]\n",
    "\n",
    "scaler = MinMaxScaler()\n",
    "\n",
    "reduced_df_2 = scaler.fit_transform(reduced_df_2)\n",
    "reduced_df_3 = scaler.fit_transform(reduced_df_3)\n",
    "\n",
    "#Array of sets\n",
    "reduced_array=[reduced_df_2,reduced_df_3]"
   ]
  },
  {
   "cell_type": "code",
   "execution_count": 13,
   "metadata": {},
   "outputs": [
    {
     "name": "stdout",
     "output_type": "stream",
     "text": [
      "INFO:tensorflow:Assets written to: C:\\Users\\DELL\\AppData\\Local\\Temp\\tmphygktbwe\\assets\n"
     ]
    },
    {
     "name": "stderr",
     "output_type": "stream",
     "text": [
      "INFO:tensorflow:Assets written to: C:\\Users\\DELL\\AppData\\Local\\Temp\\tmphygktbwe\\assets\n"
     ]
    },
    {
     "name": "stdout",
     "output_type": "stream",
     "text": [
      "INFO:tensorflow:Assets written to: C:\\Users\\DELL\\AppData\\Local\\Temp\\tmp29e721vm\\assets\n"
     ]
    },
    {
     "name": "stderr",
     "output_type": "stream",
     "text": [
      "INFO:tensorflow:Assets written to: C:\\Users\\DELL\\AppData\\Local\\Temp\\tmp29e721vm\\assets\n"
     ]
    },
    {
     "name": "stdout",
     "output_type": "stream",
     "text": [
      "INFO:tensorflow:Assets written to: C:\\Users\\DELL\\AppData\\Local\\Temp\\tmpkl1jtel_\\assets\n"
     ]
    },
    {
     "name": "stderr",
     "output_type": "stream",
     "text": [
      "INFO:tensorflow:Assets written to: C:\\Users\\DELL\\AppData\\Local\\Temp\\tmpkl1jtel_\\assets\n"
     ]
    },
    {
     "name": "stdout",
     "output_type": "stream",
     "text": [
      "INFO:tensorflow:Assets written to: C:\\Users\\DELL\\AppData\\Local\\Temp\\tmpds_c94pc\\assets\n"
     ]
    },
    {
     "name": "stderr",
     "output_type": "stream",
     "text": [
      "INFO:tensorflow:Assets written to: C:\\Users\\DELL\\AppData\\Local\\Temp\\tmpds_c94pc\\assets\n"
     ]
    },
    {
     "name": "stdout",
     "output_type": "stream",
     "text": [
      "INFO:tensorflow:Assets written to: C:\\Users\\DELL\\AppData\\Local\\Temp\\tmpj58hcsd_\\assets\n"
     ]
    },
    {
     "name": "stderr",
     "output_type": "stream",
     "text": [
      "INFO:tensorflow:Assets written to: C:\\Users\\DELL\\AppData\\Local\\Temp\\tmpj58hcsd_\\assets\n"
     ]
    },
    {
     "name": "stdout",
     "output_type": "stream",
     "text": [
      "INFO:tensorflow:Assets written to: C:\\Users\\DELL\\AppData\\Local\\Temp\\tmprwc255fd\\assets\n"
     ]
    },
    {
     "name": "stderr",
     "output_type": "stream",
     "text": [
      "INFO:tensorflow:Assets written to: C:\\Users\\DELL\\AppData\\Local\\Temp\\tmprwc255fd\\assets\n"
     ]
    },
    {
     "name": "stdout",
     "output_type": "stream",
     "text": [
      "INFO:tensorflow:Assets written to: C:\\Users\\DELL\\AppData\\Local\\Temp\\tmpx5jkke7k\\assets\n"
     ]
    },
    {
     "name": "stderr",
     "output_type": "stream",
     "text": [
      "INFO:tensorflow:Assets written to: C:\\Users\\DELL\\AppData\\Local\\Temp\\tmpx5jkke7k\\assets\n"
     ]
    },
    {
     "name": "stdout",
     "output_type": "stream",
     "text": [
      "INFO:tensorflow:Assets written to: C:\\Users\\DELL\\AppData\\Local\\Temp\\tmpudhj_peg\\assets\n"
     ]
    },
    {
     "name": "stderr",
     "output_type": "stream",
     "text": [
      "INFO:tensorflow:Assets written to: C:\\Users\\DELL\\AppData\\Local\\Temp\\tmpudhj_peg\\assets\n"
     ]
    },
    {
     "name": "stdout",
     "output_type": "stream",
     "text": [
      "INFO:tensorflow:Assets written to: C:\\Users\\DELL\\AppData\\Local\\Temp\\tmpg81kk0bo\\assets\n"
     ]
    },
    {
     "name": "stderr",
     "output_type": "stream",
     "text": [
      "INFO:tensorflow:Assets written to: C:\\Users\\DELL\\AppData\\Local\\Temp\\tmpg81kk0bo\\assets\n"
     ]
    },
    {
     "name": "stdout",
     "output_type": "stream",
     "text": [
      "INFO:tensorflow:Assets written to: C:\\Users\\DELL\\AppData\\Local\\Temp\\tmpocirvyjw\\assets\n"
     ]
    },
    {
     "name": "stderr",
     "output_type": "stream",
     "text": [
      "INFO:tensorflow:Assets written to: C:\\Users\\DELL\\AppData\\Local\\Temp\\tmpocirvyjw\\assets\n"
     ]
    },
    {
     "name": "stdout",
     "output_type": "stream",
     "text": [
      "INFO:tensorflow:Assets written to: C:\\Users\\DELL\\AppData\\Local\\Temp\\tmpmaon0_1e\\assets\n"
     ]
    },
    {
     "name": "stderr",
     "output_type": "stream",
     "text": [
      "INFO:tensorflow:Assets written to: C:\\Users\\DELL\\AppData\\Local\\Temp\\tmpmaon0_1e\\assets\n"
     ]
    },
    {
     "name": "stdout",
     "output_type": "stream",
     "text": [
      "INFO:tensorflow:Assets written to: C:\\Users\\DELL\\AppData\\Local\\Temp\\tmpmrj1lo0r\\assets\n"
     ]
    },
    {
     "name": "stderr",
     "output_type": "stream",
     "text": [
      "INFO:tensorflow:Assets written to: C:\\Users\\DELL\\AppData\\Local\\Temp\\tmpmrj1lo0r\\assets\n"
     ]
    },
    {
     "name": "stdout",
     "output_type": "stream",
     "text": [
      "INFO:tensorflow:Assets written to: C:\\Users\\DELL\\AppData\\Local\\Temp\\tmpt4xd0t8m\\assets\n"
     ]
    },
    {
     "name": "stderr",
     "output_type": "stream",
     "text": [
      "INFO:tensorflow:Assets written to: C:\\Users\\DELL\\AppData\\Local\\Temp\\tmpt4xd0t8m\\assets\n"
     ]
    },
    {
     "name": "stdout",
     "output_type": "stream",
     "text": [
      "INFO:tensorflow:Assets written to: C:\\Users\\DELL\\AppData\\Local\\Temp\\tmpkfyf2a2o\\assets\n"
     ]
    },
    {
     "name": "stderr",
     "output_type": "stream",
     "text": [
      "INFO:tensorflow:Assets written to: C:\\Users\\DELL\\AppData\\Local\\Temp\\tmpkfyf2a2o\\assets\n"
     ]
    },
    {
     "name": "stdout",
     "output_type": "stream",
     "text": [
      "INFO:tensorflow:Assets written to: C:\\Users\\DELL\\AppData\\Local\\Temp\\tmpflkb160x\\assets\n"
     ]
    },
    {
     "name": "stderr",
     "output_type": "stream",
     "text": [
      "INFO:tensorflow:Assets written to: C:\\Users\\DELL\\AppData\\Local\\Temp\\tmpflkb160x\\assets\n"
     ]
    },
    {
     "name": "stdout",
     "output_type": "stream",
     "text": [
      "INFO:tensorflow:Assets written to: C:\\Users\\DELL\\AppData\\Local\\Temp\\tmpe9zyp1ua\\assets\n"
     ]
    },
    {
     "name": "stderr",
     "output_type": "stream",
     "text": [
      "INFO:tensorflow:Assets written to: C:\\Users\\DELL\\AppData\\Local\\Temp\\tmpe9zyp1ua\\assets\n"
     ]
    },
    {
     "name": "stdout",
     "output_type": "stream",
     "text": [
      "INFO:tensorflow:Assets written to: C:\\Users\\DELL\\AppData\\Local\\Temp\\tmpnpaafzcx\\assets\n"
     ]
    },
    {
     "name": "stderr",
     "output_type": "stream",
     "text": [
      "INFO:tensorflow:Assets written to: C:\\Users\\DELL\\AppData\\Local\\Temp\\tmpnpaafzcx\\assets\n"
     ]
    },
    {
     "name": "stdout",
     "output_type": "stream",
     "text": [
      "INFO:tensorflow:Assets written to: C:\\Users\\DELL\\AppData\\Local\\Temp\\tmppbat309d\\assets\n"
     ]
    },
    {
     "name": "stderr",
     "output_type": "stream",
     "text": [
      "INFO:tensorflow:Assets written to: C:\\Users\\DELL\\AppData\\Local\\Temp\\tmppbat309d\\assets\n"
     ]
    },
    {
     "name": "stdout",
     "output_type": "stream",
     "text": [
      "INFO:tensorflow:Assets written to: C:\\Users\\DELL\\AppData\\Local\\Temp\\tmpjl16sxya\\assets\n"
     ]
    },
    {
     "name": "stderr",
     "output_type": "stream",
     "text": [
      "INFO:tensorflow:Assets written to: C:\\Users\\DELL\\AppData\\Local\\Temp\\tmpjl16sxya\\assets\n"
     ]
    },
    {
     "name": "stdout",
     "output_type": "stream",
     "text": [
      "INFO:tensorflow:Assets written to: C:\\Users\\DELL\\AppData\\Local\\Temp\\tmphqjtuhmh\\assets\n"
     ]
    },
    {
     "name": "stderr",
     "output_type": "stream",
     "text": [
      "INFO:tensorflow:Assets written to: C:\\Users\\DELL\\AppData\\Local\\Temp\\tmphqjtuhmh\\assets\n"
     ]
    },
    {
     "name": "stdout",
     "output_type": "stream",
     "text": [
      "INFO:tensorflow:Assets written to: C:\\Users\\DELL\\AppData\\Local\\Temp\\tmpb39zfg3j\\assets\n"
     ]
    },
    {
     "name": "stderr",
     "output_type": "stream",
     "text": [
      "INFO:tensorflow:Assets written to: C:\\Users\\DELL\\AppData\\Local\\Temp\\tmpb39zfg3j\\assets\n"
     ]
    },
    {
     "name": "stdout",
     "output_type": "stream",
     "text": [
      "INFO:tensorflow:Assets written to: C:\\Users\\DELL\\AppData\\Local\\Temp\\tmpv2lb4p5_\\assets\n"
     ]
    },
    {
     "name": "stderr",
     "output_type": "stream",
     "text": [
      "INFO:tensorflow:Assets written to: C:\\Users\\DELL\\AppData\\Local\\Temp\\tmpv2lb4p5_\\assets\n"
     ]
    },
    {
     "name": "stdout",
     "output_type": "stream",
     "text": [
      "INFO:tensorflow:Assets written to: C:\\Users\\DELL\\AppData\\Local\\Temp\\tmpjq95atqd\\assets\n"
     ]
    },
    {
     "name": "stderr",
     "output_type": "stream",
     "text": [
      "INFO:tensorflow:Assets written to: C:\\Users\\DELL\\AppData\\Local\\Temp\\tmpjq95atqd\\assets\n"
     ]
    },
    {
     "name": "stdout",
     "output_type": "stream",
     "text": [
      "INFO:tensorflow:Assets written to: C:\\Users\\DELL\\AppData\\Local\\Temp\\tmpiy1kqrr2\\assets\n"
     ]
    },
    {
     "name": "stderr",
     "output_type": "stream",
     "text": [
      "INFO:tensorflow:Assets written to: C:\\Users\\DELL\\AppData\\Local\\Temp\\tmpiy1kqrr2\\assets\n"
     ]
    },
    {
     "name": "stdout",
     "output_type": "stream",
     "text": [
      "INFO:tensorflow:Assets written to: C:\\Users\\DELL\\AppData\\Local\\Temp\\tmpojwe2wwn\\assets\n"
     ]
    },
    {
     "name": "stderr",
     "output_type": "stream",
     "text": [
      "INFO:tensorflow:Assets written to: C:\\Users\\DELL\\AppData\\Local\\Temp\\tmpojwe2wwn\\assets\n"
     ]
    },
    {
     "ename": "ValueError",
     "evalue": "Invalid parameter activation for estimator KerasClassifier.\nThis issue can likely be resolved by setting this parameter in the KerasClassifier constructor:\n`KerasClassifier(activation=relu)`\nCheck the list of available parameters with `estimator.get_params().keys()`",
     "output_type": "error",
     "traceback": [
      "\u001b[1;31m---------------------------------------------------------------------------\u001b[0m",
      "\u001b[1;31m_RemoteTraceback\u001b[0m                          Traceback (most recent call last)",
      "\u001b[1;31m_RemoteTraceback\u001b[0m: \n\"\"\"\nTraceback (most recent call last):\n  File \"c:\\Users\\DELL\\AppData\\Local\\Programs\\Python\\Python39\\lib\\site-packages\\joblib\\externals\\loky\\process_executor.py\", line 463, in _process_worker\n    r = call_item()\n  File \"c:\\Users\\DELL\\AppData\\Local\\Programs\\Python\\Python39\\lib\\site-packages\\joblib\\externals\\loky\\process_executor.py\", line 291, in __call__\n    return self.fn(*self.args, **self.kwargs)\n  File \"c:\\Users\\DELL\\AppData\\Local\\Programs\\Python\\Python39\\lib\\site-packages\\joblib\\parallel.py\", line 589, in __call__\n    return [func(*args, **kwargs)\n  File \"c:\\Users\\DELL\\AppData\\Local\\Programs\\Python\\Python39\\lib\\site-packages\\joblib\\parallel.py\", line 589, in <listcomp>\n    return [func(*args, **kwargs)\n  File \"c:\\Users\\DELL\\AppData\\Local\\Programs\\Python\\Python39\\lib\\site-packages\\sklearn\\utils\\parallel.py\", line 127, in __call__\n    return self.function(*args, **kwargs)\n  File \"c:\\Users\\DELL\\AppData\\Local\\Programs\\Python\\Python39\\lib\\site-packages\\sklearn\\model_selection\\_validation.py\", line 717, in _fit_and_score\n    estimator = estimator.set_params(**clone(parameters, safe=False))\n  File \"c:\\Users\\DELL\\AppData\\Local\\Programs\\Python\\Python39\\lib\\site-packages\\scikeras\\wrappers.py\", line 1165, in set_params\n    raise ValueError(\nValueError: Invalid parameter activation for estimator KerasClassifier.\nThis issue can likely be resolved by setting this parameter in the KerasClassifier constructor:\n`KerasClassifier(activation=relu)`\nCheck the list of available parameters with `estimator.get_params().keys()`\n\"\"\"",
      "\nThe above exception was the direct cause of the following exception:\n",
      "\u001b[1;31mValueError\u001b[0m                                Traceback (most recent call last)",
      "\u001b[1;32mc:\\Users\\DELL\\Data Mining\\Data_Mining\\proyecto7\\proyecto7.ipynb Cell 4\u001b[0m line \u001b[0;36m2\n\u001b[0;32m     <a href='vscode-notebook-cell:/c%3A/Users/DELL/Data%20Mining/Data_Mining/proyecto7/proyecto7.ipynb#W3sZmlsZQ%3D%3D?line=23'>24</a>\u001b[0m \u001b[39m# Grid search\u001b[39;00m\n\u001b[0;32m     <a href='vscode-notebook-cell:/c%3A/Users/DELL/Data%20Mining/Data_Mining/proyecto7/proyecto7.ipynb#W3sZmlsZQ%3D%3D?line=24'>25</a>\u001b[0m grid \u001b[39m=\u001b[39m GridSearchCV(estimator\u001b[39m=\u001b[39mmodel, param_grid\u001b[39m=\u001b[39mparam_grid, n_jobs\u001b[39m=\u001b[39m\u001b[39m-\u001b[39m\u001b[39m1\u001b[39m, cv\u001b[39m=\u001b[39mskf, scoring\u001b[39m=\u001b[39m\u001b[39m'\u001b[39m\u001b[39maccuracy\u001b[39m\u001b[39m'\u001b[39m, error_score\u001b[39m=\u001b[39m\u001b[39m0\u001b[39m)\n\u001b[1;32m---> <a href='vscode-notebook-cell:/c%3A/Users/DELL/Data%20Mining/Data_Mining/proyecto7/proyecto7.ipynb#W3sZmlsZQ%3D%3D?line=25'>26</a>\u001b[0m grid_result \u001b[39m=\u001b[39m grid\u001b[39m.\u001b[39;49mfit(X, y)\n\u001b[0;32m     <a href='vscode-notebook-cell:/c%3A/Users/DELL/Data%20Mining/Data_Mining/proyecto7/proyecto7.ipynb#W3sZmlsZQ%3D%3D?line=26'>27</a>\u001b[0m \u001b[39m# Results\u001b[39;00m\n\u001b[0;32m     <a href='vscode-notebook-cell:/c%3A/Users/DELL/Data%20Mining/Data_Mining/proyecto7/proyecto7.ipynb#W3sZmlsZQ%3D%3D?line=27'>28</a>\u001b[0m \u001b[39mprint\u001b[39m(\u001b[39m\"\u001b[39m\u001b[39mBest: \u001b[39m\u001b[39m%f\u001b[39;00m\u001b[39m using \u001b[39m\u001b[39m%s\u001b[39;00m\u001b[39m\"\u001b[39m \u001b[39m%\u001b[39m (grid_result\u001b[39m.\u001b[39mbest_score_, grid_result\u001b[39m.\u001b[39mbest_params_))\n",
      "File \u001b[1;32mc:\\Users\\DELL\\AppData\\Local\\Programs\\Python\\Python39\\lib\\site-packages\\sklearn\\base.py:1152\u001b[0m, in \u001b[0;36m_fit_context.<locals>.decorator.<locals>.wrapper\u001b[1;34m(estimator, *args, **kwargs)\u001b[0m\n\u001b[0;32m   1145\u001b[0m     estimator\u001b[39m.\u001b[39m_validate_params()\n\u001b[0;32m   1147\u001b[0m \u001b[39mwith\u001b[39;00m config_context(\n\u001b[0;32m   1148\u001b[0m     skip_parameter_validation\u001b[39m=\u001b[39m(\n\u001b[0;32m   1149\u001b[0m         prefer_skip_nested_validation \u001b[39mor\u001b[39;00m global_skip_validation\n\u001b[0;32m   1150\u001b[0m     )\n\u001b[0;32m   1151\u001b[0m ):\n\u001b[1;32m-> 1152\u001b[0m     \u001b[39mreturn\u001b[39;00m fit_method(estimator, \u001b[39m*\u001b[39margs, \u001b[39m*\u001b[39m\u001b[39m*\u001b[39mkwargs)\n",
      "File \u001b[1;32mc:\\Users\\DELL\\AppData\\Local\\Programs\\Python\\Python39\\lib\\site-packages\\sklearn\\model_selection\\_search.py:898\u001b[0m, in \u001b[0;36mBaseSearchCV.fit\u001b[1;34m(self, X, y, groups, **fit_params)\u001b[0m\n\u001b[0;32m    892\u001b[0m     results \u001b[39m=\u001b[39m \u001b[39mself\u001b[39m\u001b[39m.\u001b[39m_format_results(\n\u001b[0;32m    893\u001b[0m         all_candidate_params, n_splits, all_out, all_more_results\n\u001b[0;32m    894\u001b[0m     )\n\u001b[0;32m    896\u001b[0m     \u001b[39mreturn\u001b[39;00m results\n\u001b[1;32m--> 898\u001b[0m \u001b[39mself\u001b[39;49m\u001b[39m.\u001b[39;49m_run_search(evaluate_candidates)\n\u001b[0;32m    900\u001b[0m \u001b[39m# multimetric is determined here because in the case of a callable\u001b[39;00m\n\u001b[0;32m    901\u001b[0m \u001b[39m# self.scoring the return type is only known after calling\u001b[39;00m\n\u001b[0;32m    902\u001b[0m first_test_score \u001b[39m=\u001b[39m all_out[\u001b[39m0\u001b[39m][\u001b[39m\"\u001b[39m\u001b[39mtest_scores\u001b[39m\u001b[39m\"\u001b[39m]\n",
      "File \u001b[1;32mc:\\Users\\DELL\\AppData\\Local\\Programs\\Python\\Python39\\lib\\site-packages\\sklearn\\model_selection\\_search.py:1422\u001b[0m, in \u001b[0;36mGridSearchCV._run_search\u001b[1;34m(self, evaluate_candidates)\u001b[0m\n\u001b[0;32m   1420\u001b[0m \u001b[39mdef\u001b[39;00m \u001b[39m_run_search\u001b[39m(\u001b[39mself\u001b[39m, evaluate_candidates):\n\u001b[0;32m   1421\u001b[0m \u001b[39m    \u001b[39m\u001b[39m\"\"\"Search all candidates in param_grid\"\"\"\u001b[39;00m\n\u001b[1;32m-> 1422\u001b[0m     evaluate_candidates(ParameterGrid(\u001b[39mself\u001b[39;49m\u001b[39m.\u001b[39;49mparam_grid))\n",
      "File \u001b[1;32mc:\\Users\\DELL\\AppData\\Local\\Programs\\Python\\Python39\\lib\\site-packages\\sklearn\\model_selection\\_search.py:845\u001b[0m, in \u001b[0;36mBaseSearchCV.fit.<locals>.evaluate_candidates\u001b[1;34m(candidate_params, cv, more_results)\u001b[0m\n\u001b[0;32m    837\u001b[0m \u001b[39mif\u001b[39;00m \u001b[39mself\u001b[39m\u001b[39m.\u001b[39mverbose \u001b[39m>\u001b[39m \u001b[39m0\u001b[39m:\n\u001b[0;32m    838\u001b[0m     \u001b[39mprint\u001b[39m(\n\u001b[0;32m    839\u001b[0m         \u001b[39m\"\u001b[39m\u001b[39mFitting \u001b[39m\u001b[39m{0}\u001b[39;00m\u001b[39m folds for each of \u001b[39m\u001b[39m{1}\u001b[39;00m\u001b[39m candidates,\u001b[39m\u001b[39m\"\u001b[39m\n\u001b[0;32m    840\u001b[0m         \u001b[39m\"\u001b[39m\u001b[39m totalling \u001b[39m\u001b[39m{2}\u001b[39;00m\u001b[39m fits\u001b[39m\u001b[39m\"\u001b[39m\u001b[39m.\u001b[39mformat(\n\u001b[0;32m    841\u001b[0m             n_splits, n_candidates, n_candidates \u001b[39m*\u001b[39m n_splits\n\u001b[0;32m    842\u001b[0m         )\n\u001b[0;32m    843\u001b[0m     )\n\u001b[1;32m--> 845\u001b[0m out \u001b[39m=\u001b[39m parallel(\n\u001b[0;32m    846\u001b[0m     delayed(_fit_and_score)(\n\u001b[0;32m    847\u001b[0m         clone(base_estimator),\n\u001b[0;32m    848\u001b[0m         X,\n\u001b[0;32m    849\u001b[0m         y,\n\u001b[0;32m    850\u001b[0m         train\u001b[39m=\u001b[39;49mtrain,\n\u001b[0;32m    851\u001b[0m         test\u001b[39m=\u001b[39;49mtest,\n\u001b[0;32m    852\u001b[0m         parameters\u001b[39m=\u001b[39;49mparameters,\n\u001b[0;32m    853\u001b[0m         split_progress\u001b[39m=\u001b[39;49m(split_idx, n_splits),\n\u001b[0;32m    854\u001b[0m         candidate_progress\u001b[39m=\u001b[39;49m(cand_idx, n_candidates),\n\u001b[0;32m    855\u001b[0m         \u001b[39m*\u001b[39;49m\u001b[39m*\u001b[39;49mfit_and_score_kwargs,\n\u001b[0;32m    856\u001b[0m     )\n\u001b[0;32m    857\u001b[0m     \u001b[39mfor\u001b[39;49;00m (cand_idx, parameters), (split_idx, (train, test)) \u001b[39min\u001b[39;49;00m product(\n\u001b[0;32m    858\u001b[0m         \u001b[39menumerate\u001b[39;49m(candidate_params), \u001b[39menumerate\u001b[39;49m(cv\u001b[39m.\u001b[39;49msplit(X, y, groups))\n\u001b[0;32m    859\u001b[0m     )\n\u001b[0;32m    860\u001b[0m )\n\u001b[0;32m    862\u001b[0m \u001b[39mif\u001b[39;00m \u001b[39mlen\u001b[39m(out) \u001b[39m<\u001b[39m \u001b[39m1\u001b[39m:\n\u001b[0;32m    863\u001b[0m     \u001b[39mraise\u001b[39;00m \u001b[39mValueError\u001b[39;00m(\n\u001b[0;32m    864\u001b[0m         \u001b[39m\"\u001b[39m\u001b[39mNo fits were performed. \u001b[39m\u001b[39m\"\u001b[39m\n\u001b[0;32m    865\u001b[0m         \u001b[39m\"\u001b[39m\u001b[39mWas the CV iterator empty? \u001b[39m\u001b[39m\"\u001b[39m\n\u001b[0;32m    866\u001b[0m         \u001b[39m\"\u001b[39m\u001b[39mWere there no candidates?\u001b[39m\u001b[39m\"\u001b[39m\n\u001b[0;32m    867\u001b[0m     )\n",
      "File \u001b[1;32mc:\\Users\\DELL\\AppData\\Local\\Programs\\Python\\Python39\\lib\\site-packages\\sklearn\\utils\\parallel.py:65\u001b[0m, in \u001b[0;36mParallel.__call__\u001b[1;34m(self, iterable)\u001b[0m\n\u001b[0;32m     60\u001b[0m config \u001b[39m=\u001b[39m get_config()\n\u001b[0;32m     61\u001b[0m iterable_with_config \u001b[39m=\u001b[39m (\n\u001b[0;32m     62\u001b[0m     (_with_config(delayed_func, config), args, kwargs)\n\u001b[0;32m     63\u001b[0m     \u001b[39mfor\u001b[39;00m delayed_func, args, kwargs \u001b[39min\u001b[39;00m iterable\n\u001b[0;32m     64\u001b[0m )\n\u001b[1;32m---> 65\u001b[0m \u001b[39mreturn\u001b[39;00m \u001b[39msuper\u001b[39;49m()\u001b[39m.\u001b[39;49m\u001b[39m__call__\u001b[39;49m(iterable_with_config)\n",
      "File \u001b[1;32mc:\\Users\\DELL\\AppData\\Local\\Programs\\Python\\Python39\\lib\\site-packages\\joblib\\parallel.py:1952\u001b[0m, in \u001b[0;36mParallel.__call__\u001b[1;34m(self, iterable)\u001b[0m\n\u001b[0;32m   1946\u001b[0m \u001b[39m# The first item from the output is blank, but it makes the interpreter\u001b[39;00m\n\u001b[0;32m   1947\u001b[0m \u001b[39m# progress until it enters the Try/Except block of the generator and\u001b[39;00m\n\u001b[0;32m   1948\u001b[0m \u001b[39m# reach the first `yield` statement. This starts the aynchronous\u001b[39;00m\n\u001b[0;32m   1949\u001b[0m \u001b[39m# dispatch of the tasks to the workers.\u001b[39;00m\n\u001b[0;32m   1950\u001b[0m \u001b[39mnext\u001b[39m(output)\n\u001b[1;32m-> 1952\u001b[0m \u001b[39mreturn\u001b[39;00m output \u001b[39mif\u001b[39;00m \u001b[39mself\u001b[39m\u001b[39m.\u001b[39mreturn_generator \u001b[39melse\u001b[39;00m \u001b[39mlist\u001b[39;49m(output)\n",
      "File \u001b[1;32mc:\\Users\\DELL\\AppData\\Local\\Programs\\Python\\Python39\\lib\\site-packages\\joblib\\parallel.py:1595\u001b[0m, in \u001b[0;36mParallel._get_outputs\u001b[1;34m(self, iterator, pre_dispatch)\u001b[0m\n\u001b[0;32m   1592\u001b[0m     \u001b[39myield\u001b[39;00m\n\u001b[0;32m   1594\u001b[0m     \u001b[39mwith\u001b[39;00m \u001b[39mself\u001b[39m\u001b[39m.\u001b[39m_backend\u001b[39m.\u001b[39mretrieval_context():\n\u001b[1;32m-> 1595\u001b[0m         \u001b[39myield from\u001b[39;00m \u001b[39mself\u001b[39m\u001b[39m.\u001b[39m_retrieve()\n\u001b[0;32m   1597\u001b[0m \u001b[39mexcept\u001b[39;00m \u001b[39mGeneratorExit\u001b[39;00m:\n\u001b[0;32m   1598\u001b[0m     \u001b[39m# The generator has been garbage collected before being fully\u001b[39;00m\n\u001b[0;32m   1599\u001b[0m     \u001b[39m# consumed. This aborts the remaining tasks if possible and warn\u001b[39;00m\n\u001b[0;32m   1600\u001b[0m     \u001b[39m# the user if necessary.\u001b[39;00m\n\u001b[0;32m   1601\u001b[0m     \u001b[39mself\u001b[39m\u001b[39m.\u001b[39m_exception \u001b[39m=\u001b[39m \u001b[39mTrue\u001b[39;00m\n",
      "File \u001b[1;32mc:\\Users\\DELL\\AppData\\Local\\Programs\\Python\\Python39\\lib\\site-packages\\joblib\\parallel.py:1699\u001b[0m, in \u001b[0;36mParallel._retrieve\u001b[1;34m(self)\u001b[0m\n\u001b[0;32m   1692\u001b[0m \u001b[39mwhile\u001b[39;00m \u001b[39mself\u001b[39m\u001b[39m.\u001b[39m_wait_retrieval():\n\u001b[0;32m   1693\u001b[0m \n\u001b[0;32m   1694\u001b[0m     \u001b[39m# If the callback thread of a worker has signaled that its task\u001b[39;00m\n\u001b[0;32m   1695\u001b[0m     \u001b[39m# triggered an exception, or if the retrieval loop has raised an\u001b[39;00m\n\u001b[0;32m   1696\u001b[0m     \u001b[39m# exception (e.g. `GeneratorExit`), exit the loop and surface the\u001b[39;00m\n\u001b[0;32m   1697\u001b[0m     \u001b[39m# worker traceback.\u001b[39;00m\n\u001b[0;32m   1698\u001b[0m     \u001b[39mif\u001b[39;00m \u001b[39mself\u001b[39m\u001b[39m.\u001b[39m_aborting:\n\u001b[1;32m-> 1699\u001b[0m         \u001b[39mself\u001b[39;49m\u001b[39m.\u001b[39;49m_raise_error_fast()\n\u001b[0;32m   1700\u001b[0m         \u001b[39mbreak\u001b[39;00m\n\u001b[0;32m   1702\u001b[0m     \u001b[39m# If the next job is not ready for retrieval yet, we just wait for\u001b[39;00m\n\u001b[0;32m   1703\u001b[0m     \u001b[39m# async callbacks to progress.\u001b[39;00m\n",
      "File \u001b[1;32mc:\\Users\\DELL\\AppData\\Local\\Programs\\Python\\Python39\\lib\\site-packages\\joblib\\parallel.py:1734\u001b[0m, in \u001b[0;36mParallel._raise_error_fast\u001b[1;34m(self)\u001b[0m\n\u001b[0;32m   1730\u001b[0m \u001b[39m# If this error job exists, immediatly raise the error by\u001b[39;00m\n\u001b[0;32m   1731\u001b[0m \u001b[39m# calling get_result. This job might not exists if abort has been\u001b[39;00m\n\u001b[0;32m   1732\u001b[0m \u001b[39m# called directly or if the generator is gc'ed.\u001b[39;00m\n\u001b[0;32m   1733\u001b[0m \u001b[39mif\u001b[39;00m error_job \u001b[39mis\u001b[39;00m \u001b[39mnot\u001b[39;00m \u001b[39mNone\u001b[39;00m:\n\u001b[1;32m-> 1734\u001b[0m     error_job\u001b[39m.\u001b[39;49mget_result(\u001b[39mself\u001b[39;49m\u001b[39m.\u001b[39;49mtimeout)\n",
      "File \u001b[1;32mc:\\Users\\DELL\\AppData\\Local\\Programs\\Python\\Python39\\lib\\site-packages\\joblib\\parallel.py:736\u001b[0m, in \u001b[0;36mBatchCompletionCallBack.get_result\u001b[1;34m(self, timeout)\u001b[0m\n\u001b[0;32m    730\u001b[0m backend \u001b[39m=\u001b[39m \u001b[39mself\u001b[39m\u001b[39m.\u001b[39mparallel\u001b[39m.\u001b[39m_backend\n\u001b[0;32m    732\u001b[0m \u001b[39mif\u001b[39;00m backend\u001b[39m.\u001b[39msupports_retrieve_callback:\n\u001b[0;32m    733\u001b[0m     \u001b[39m# We assume that the result has already been retrieved by the\u001b[39;00m\n\u001b[0;32m    734\u001b[0m     \u001b[39m# callback thread, and is stored internally. It's just waiting to\u001b[39;00m\n\u001b[0;32m    735\u001b[0m     \u001b[39m# be returned.\u001b[39;00m\n\u001b[1;32m--> 736\u001b[0m     \u001b[39mreturn\u001b[39;00m \u001b[39mself\u001b[39;49m\u001b[39m.\u001b[39;49m_return_or_raise()\n\u001b[0;32m    738\u001b[0m \u001b[39m# For other backends, the main thread needs to run the retrieval step.\u001b[39;00m\n\u001b[0;32m    739\u001b[0m \u001b[39mtry\u001b[39;00m:\n",
      "File \u001b[1;32mc:\\Users\\DELL\\AppData\\Local\\Programs\\Python\\Python39\\lib\\site-packages\\joblib\\parallel.py:754\u001b[0m, in \u001b[0;36mBatchCompletionCallBack._return_or_raise\u001b[1;34m(self)\u001b[0m\n\u001b[0;32m    752\u001b[0m \u001b[39mtry\u001b[39;00m:\n\u001b[0;32m    753\u001b[0m     \u001b[39mif\u001b[39;00m \u001b[39mself\u001b[39m\u001b[39m.\u001b[39mstatus \u001b[39m==\u001b[39m TASK_ERROR:\n\u001b[1;32m--> 754\u001b[0m         \u001b[39mraise\u001b[39;00m \u001b[39mself\u001b[39m\u001b[39m.\u001b[39m_result\n\u001b[0;32m    755\u001b[0m     \u001b[39mreturn\u001b[39;00m \u001b[39mself\u001b[39m\u001b[39m.\u001b[39m_result\n\u001b[0;32m    756\u001b[0m \u001b[39mfinally\u001b[39;00m:\n",
      "\u001b[1;31mValueError\u001b[0m: Invalid parameter activation for estimator KerasClassifier.\nThis issue can likely be resolved by setting this parameter in the KerasClassifier constructor:\n`KerasClassifier(activation=relu)`\nCheck the list of available parameters with `estimator.get_params().keys()`"
     ]
    },
    {
     "name": "stdout",
     "output_type": "stream",
     "text": [
      "INFO:tensorflow:Assets written to: C:\\Users\\DELL\\AppData\\Local\\Temp\\tmpsck0ydgd\\assets\n"
     ]
    },
    {
     "name": "stderr",
     "output_type": "stream",
     "text": [
      "INFO:tensorflow:Assets written to: C:\\Users\\DELL\\AppData\\Local\\Temp\\tmpsck0ydgd\\assets\n"
     ]
    }
   ],
   "source": [
    "def create_model(neurons, activation):\n",
    "    model = tf.keras.models.Sequential()\n",
    "    model.add(tf.keras.layers.Dense(neurons, activation=activation, input_dim=len(X)))\n",
    "    model.add(tf.keras.layers.Dense(neurons, activation=activation))\n",
    "    model.add(tf.keras.layers.Dense(neurons, activation=activation))\n",
    "    model.add(tf.keras.layers.Dense(1, activation='sigmoid'))\n",
    "    model.compile(loss='binary_crossentropy', optimizer='adam', metrics=['accuracy'])\n",
    "    return model\n",
    "\n",
    "# Grid search parameters\n",
    "neurons = [5, 10, 15, 20, 25, 30, 35, 40, 45, 50]\n",
    "activations = ['relu', 'softmax', 'sigmoid', 'linear'] \n",
    "\n",
    "param_grid = dict(neurons=neurons, activation=activations)\n",
    "\n",
    "# Perform grid search\n",
    "for i in range(2):\n",
    "    # Split data\n",
    "    X = reduced_array[i]\n",
    "    skf = StratifiedKFold(n_splits=10, shuffle=True, random_state=42)\n",
    "    skf.get_n_splits(X, y)\n",
    "    # Create model\n",
    "    model = KerasClassifier(build_fn=create_model(1,'relu'), verbose=0)\n",
    "    # Grid search\n",
    "    grid = GridSearchCV(estimator=model, param_grid=param_grid, n_jobs=-1, cv=skf, scoring='accuracy', error_score=0)\n",
    "    grid_result = grid.fit(X, y)\n",
    "    # Results\n",
    "    print(\"Best: %f using %s\" % (grid_result.best_score_, grid_result.best_params_))\n",
    "    means = grid_result.cv_results_['mean_test_score']\n",
    "    stds = grid_result.cv_results_['std_test_score']\n",
    "    params = grid_result.cv_results_['params']\n",
    "    for mean, stdev, param in zip(means, stds, params):\n",
    "        print(\"%f (%f) with: %r\" % (mean, stdev, param))"
   ]
  },
  {
   "cell_type": "markdown",
   "metadata": {},
   "source": [
    "## Model 1"
   ]
  },
  {
   "cell_type": "code",
   "execution_count": 10,
   "metadata": {},
   "outputs": [
    {
     "name": "stdout",
     "output_type": "stream",
     "text": [
      "Set:  1\n",
      "12/12 [==============================] - 1s 24ms/step - loss: 6.2233 - accuracy: 0.5112 - val_loss: 0.6925 - val_accuracy: 0.5000\n",
      "Epoch 1/50\n",
      "12/12 [==============================] - 1s 24ms/step - loss: 3.9576 - accuracy: 0.5112 - val_loss: 0.6919 - val_accuracy: 0.5000\n",
      "Epoch 2/50\n",
      "12/12 [==============================] - 0s 8ms/step - loss: 0.7079 - accuracy: 0.5112 - val_loss: 0.7086 - val_accuracy: 0.5000\n",
      "Epoch 3/50\n",
      "12/12 [==============================] - 0s 7ms/step - loss: 0.7045 - accuracy: 0.5112 - val_loss: 0.6999 - val_accuracy: 0.5000\n",
      "Epoch 4/50\n",
      "12/12 [==============================] - 0s 6ms/step - loss: 0.7053 - accuracy: 0.5112 - val_loss: 0.6951 - val_accuracy: 0.5000\n",
      "Epoch 5/50\n",
      "12/12 [==============================] - 0s 6ms/step - loss: 0.6989 - accuracy: 0.5112 - val_loss: 0.7005 - val_accuracy: 0.5000\n",
      "Epoch 6/50\n",
      "12/12 [==============================] - 0s 6ms/step - loss: 0.6964 - accuracy: 0.5112 - val_loss: 0.6934 - val_accuracy: 0.5000\n",
      "Epoch 7/50\n",
      "12/12 [==============================] - 0s 6ms/step - loss: 0.6933 - accuracy: 0.5112 - val_loss: 0.6948 - val_accuracy: 0.5000\n",
      "Epoch 8/50\n",
      "12/12 [==============================] - 0s 6ms/step - loss: 0.6947 - accuracy: 0.5112 - val_loss: 0.6931 - val_accuracy: 0.5000\n",
      "Epoch 9/50\n",
      "12/12 [==============================] - 0s 6ms/step - loss: 0.6934 - accuracy: 0.5112 - val_loss: 0.6938 - val_accuracy: 0.5000\n",
      "Epoch 10/50\n",
      "12/12 [==============================] - 0s 7ms/step - loss: 0.6984 - accuracy: 0.5112 - val_loss: 0.6932 - val_accuracy: 0.5000\n",
      "Epoch 11/50\n",
      "12/12 [==============================] - 0s 6ms/step - loss: 0.6943 - accuracy: 0.5112 - val_loss: 0.7021 - val_accuracy: 0.5000\n",
      "Epoch 12/50\n",
      "12/12 [==============================] - 0s 6ms/step - loss: 0.7027 - accuracy: 0.5112 - val_loss: 0.6961 - val_accuracy: 0.5000\n",
      "Epoch 13/50\n",
      "12/12 [==============================] - 0s 6ms/step - loss: 0.6906 - accuracy: 0.5112 - val_loss: 0.6936 - val_accuracy: 0.5000\n",
      "Epoch 14/50\n",
      "12/12 [==============================] - 0s 6ms/step - loss: 0.6943 - accuracy: 0.5112 - val_loss: 0.6934 - val_accuracy: 0.5000\n",
      "Epoch 15/50\n",
      "12/12 [==============================] - 0s 5ms/step - loss: 0.6947 - accuracy: 0.5112 - val_loss: 0.6933 - val_accuracy: 0.5000\n",
      "Epoch 16/50\n",
      "12/12 [==============================] - 0s 5ms/step - loss: 0.6950 - accuracy: 0.5112 - val_loss: 0.6932 - val_accuracy: 0.5000\n",
      "Epoch 17/50\n",
      "12/12 [==============================] - 0s 5ms/step - loss: 0.6965 - accuracy: 0.5112 - val_loss: 0.6934 - val_accuracy: 0.5000\n",
      "Epoch 18/50\n",
      "12/12 [==============================] - 0s 7ms/step - loss: 0.6959 - accuracy: 0.5112 - val_loss: 0.6942 - val_accuracy: 0.5000\n",
      "Epoch 19/50\n",
      "12/12 [==============================] - 0s 6ms/step - loss: 0.6954 - accuracy: 0.5112 - val_loss: 0.6932 - val_accuracy: 0.5000\n",
      "Epoch 20/50\n",
      "12/12 [==============================] - 0s 6ms/step - loss: 0.6983 - accuracy: 0.5112 - val_loss: 0.6958 - val_accuracy: 0.5000\n",
      "Epoch 21/50\n",
      "12/12 [==============================] - 0s 6ms/step - loss: 0.6938 - accuracy: 0.5112 - val_loss: 0.6932 - val_accuracy: 0.5000\n",
      "Epoch 22/50\n",
      "12/12 [==============================] - 0s 6ms/step - loss: 0.6934 - accuracy: 0.5112 - val_loss: 0.6965 - val_accuracy: 0.5000\n",
      "Epoch 23/50\n",
      "12/12 [==============================] - 0s 6ms/step - loss: 0.6949 - accuracy: 0.5112 - val_loss: 0.6936 - val_accuracy: 0.5000\n",
      "Epoch 24/50\n",
      "12/12 [==============================] - 0s 6ms/step - loss: 0.6942 - accuracy: 0.5112 - val_loss: 0.6934 - val_accuracy: 0.5000\n",
      "Epoch 25/50\n",
      "12/12 [==============================] - 0s 7ms/step - loss: 0.6939 - accuracy: 0.5112 - val_loss: 0.6941 - val_accuracy: 0.5000\n",
      "Epoch 26/50\n",
      "12/12 [==============================] - 0s 6ms/step - loss: 0.6953 - accuracy: 0.5112 - val_loss: 0.6950 - val_accuracy: 0.5000\n",
      "Epoch 27/50\n",
      "12/12 [==============================] - 0s 5ms/step - loss: 0.6943 - accuracy: 0.5112 - val_loss: 0.6940 - val_accuracy: 0.5000\n",
      "Epoch 28/50\n",
      "12/12 [==============================] - 0s 6ms/step - loss: 0.6919 - accuracy: 0.5112 - val_loss: 0.6934 - val_accuracy: 0.5000\n",
      "Epoch 29/50\n",
      "12/12 [==============================] - 0s 6ms/step - loss: 0.6950 - accuracy: 0.5112 - val_loss: 0.6932 - val_accuracy: 0.5000\n",
      "Epoch 30/50\n",
      "12/12 [==============================] - 0s 6ms/step - loss: 0.6932 - accuracy: 0.5112 - val_loss: 0.6932 - val_accuracy: 0.5000\n",
      "Epoch 31/50\n",
      "12/12 [==============================] - 0s 5ms/step - loss: 0.6951 - accuracy: 0.5112 - val_loss: 0.6940 - val_accuracy: 0.5000\n",
      "Epoch 32/50\n",
      "12/12 [==============================] - 0s 6ms/step - loss: 0.6931 - accuracy: 0.5112 - val_loss: 0.6932 - val_accuracy: 0.5000\n",
      "Epoch 33/50\n",
      "12/12 [==============================] - 0s 6ms/step - loss: 0.6943 - accuracy: 0.5112 - val_loss: 0.6935 - val_accuracy: 0.5000\n",
      "Epoch 34/50\n",
      "12/12 [==============================] - 0s 6ms/step - loss: 0.6947 - accuracy: 0.5112 - val_loss: 0.6936 - val_accuracy: 0.5000\n",
      "Epoch 35/50\n",
      "12/12 [==============================] - 0s 6ms/step - loss: 0.6942 - accuracy: 0.5112 - val_loss: 0.6932 - val_accuracy: 0.5000\n",
      "Epoch 36/50\n",
      "12/12 [==============================] - 0s 6ms/step - loss: 0.6937 - accuracy: 0.5112 - val_loss: 0.6932 - val_accuracy: 0.5000\n",
      "Epoch 37/50\n",
      "12/12 [==============================] - 0s 6ms/step - loss: 0.6936 - accuracy: 0.5112 - val_loss: 0.6932 - val_accuracy: 0.5000\n",
      "Epoch 38/50\n",
      "12/12 [==============================] - 0s 7ms/step - loss: 0.6948 - accuracy: 0.5112 - val_loss: 0.6962 - val_accuracy: 0.5000\n",
      "Epoch 39/50\n",
      "12/12 [==============================] - 0s 7ms/step - loss: 0.6952 - accuracy: 0.5112 - val_loss: 0.6939 - val_accuracy: 0.5000\n",
      "Epoch 40/50\n",
      "12/12 [==============================] - 0s 6ms/step - loss: 0.6944 - accuracy: 0.5112 - val_loss: 0.6954 - val_accuracy: 0.5000\n",
      "Epoch 41/50\n",
      "12/12 [==============================] - 0s 6ms/step - loss: 0.6942 - accuracy: 0.5112 - val_loss: 0.6931 - val_accuracy: 0.5000\n",
      "Epoch 42/50\n",
      "12/12 [==============================] - 0s 6ms/step - loss: 0.6966 - accuracy: 0.5112 - val_loss: 0.6933 - val_accuracy: 0.5000\n",
      "Epoch 43/50\n",
      "12/12 [==============================] - 0s 6ms/step - loss: 0.6934 - accuracy: 0.5112 - val_loss: 0.6933 - val_accuracy: 0.5000\n",
      "Epoch 44/50\n",
      "12/12 [==============================] - 0s 6ms/step - loss: 0.6942 - accuracy: 0.5112 - val_loss: 0.6934 - val_accuracy: 0.5000\n",
      "Epoch 45/50\n",
      "12/12 [==============================] - 0s 6ms/step - loss: 0.6944 - accuracy: 0.5112 - val_loss: 0.6934 - val_accuracy: 0.5000\n",
      "Epoch 46/50\n",
      "12/12 [==============================] - 0s 6ms/step - loss: 0.6943 - accuracy: 0.5112 - val_loss: 0.6935 - val_accuracy: 0.5000\n",
      "Epoch 47/50\n",
      "12/12 [==============================] - 0s 7ms/step - loss: 0.6979 - accuracy: 0.5112 - val_loss: 0.6965 - val_accuracy: 0.5000\n",
      "Epoch 48/50\n",
      "12/12 [==============================] - 0s 8ms/step - loss: 0.6933 - accuracy: 0.5112 - val_loss: 0.6932 - val_accuracy: 0.5000\n",
      "Epoch 49/50\n",
      "12/12 [==============================] - 0s 5ms/step - loss: 0.6926 - accuracy: 0.5112 - val_loss: 0.6953 - val_accuracy: 0.5000\n",
      "Epoch 50/50\n",
      "12/12 [==============================] - 0s 5ms/step - loss: 0.6965 - accuracy: 0.5112 - val_loss: 0.6969 - val_accuracy: 0.5000\n",
      "Epoch 1/100\n",
      "12/12 [==============================] - 2s 22ms/step - loss: 5.3471 - accuracy: 0.5112 - val_loss: 0.7330 - val_accuracy: 0.5000\n",
      "Epoch 2/100\n",
      "12/12 [==============================] - 0s 7ms/step - loss: 0.7024 - accuracy: 0.5112 - val_loss: 0.7018 - val_accuracy: 0.5000\n",
      "Epoch 3/100\n",
      "12/12 [==============================] - 0s 6ms/step - loss: 0.6963 - accuracy: 0.5112 - val_loss: 0.6945 - val_accuracy: 0.5000\n",
      "Epoch 4/100\n",
      "12/12 [==============================] - 0s 6ms/step - loss: 0.6933 - accuracy: 0.5112 - val_loss: 0.6931 - val_accuracy: 0.5000\n",
      "Epoch 5/100\n",
      "12/12 [==============================] - 0s 6ms/step - loss: 0.6924 - accuracy: 0.5112 - val_loss: 0.6947 - val_accuracy: 0.5000\n",
      "Epoch 6/100\n",
      "12/12 [==============================] - 0s 6ms/step - loss: 0.6948 - accuracy: 0.5112 - val_loss: 0.6941 - val_accuracy: 0.5000\n",
      "Epoch 7/100\n",
      "12/12 [==============================] - 0s 6ms/step - loss: 0.6933 - accuracy: 0.5112 - val_loss: 0.6932 - val_accuracy: 0.5000\n",
      "Epoch 8/100\n",
      "12/12 [==============================] - 0s 6ms/step - loss: 0.6948 - accuracy: 0.5112 - val_loss: 0.6940 - val_accuracy: 0.5000\n",
      "Epoch 9/100\n",
      "12/12 [==============================] - 0s 6ms/step - loss: 0.6938 - accuracy: 0.5112 - val_loss: 0.6934 - val_accuracy: 0.5000\n",
      "Epoch 10/100\n",
      "12/12 [==============================] - 0s 6ms/step - loss: 0.6944 - accuracy: 0.5112 - val_loss: 0.6940 - val_accuracy: 0.5000\n",
      "Epoch 11/100\n",
      "12/12 [==============================] - 0s 6ms/step - loss: 0.6942 - accuracy: 0.5112 - val_loss: 0.6932 - val_accuracy: 0.5000\n",
      "Epoch 12/100\n",
      "12/12 [==============================] - 0s 6ms/step - loss: 0.6999 - accuracy: 0.5112 - val_loss: 0.6937 - val_accuracy: 0.5000\n",
      "Epoch 13/100\n",
      "12/12 [==============================] - 0s 7ms/step - loss: 0.6930 - accuracy: 0.5112 - val_loss: 0.6953 - val_accuracy: 0.5000\n",
      "Epoch 14/100\n",
      "12/12 [==============================] - 0s 6ms/step - loss: 0.6963 - accuracy: 0.5112 - val_loss: 0.6946 - val_accuracy: 0.5000\n",
      "Epoch 15/100\n",
      "12/12 [==============================] - 0s 5ms/step - loss: 0.6940 - accuracy: 0.5112 - val_loss: 0.6936 - val_accuracy: 0.5000\n",
      "Epoch 16/100\n",
      "12/12 [==============================] - 0s 6ms/step - loss: 0.6942 - accuracy: 0.5112 - val_loss: 0.6934 - val_accuracy: 0.5000\n",
      "Epoch 17/100\n",
      "12/12 [==============================] - 0s 7ms/step - loss: 0.6955 - accuracy: 0.5112 - val_loss: 0.7004 - val_accuracy: 0.5000\n",
      "Epoch 18/100\n",
      "12/12 [==============================] - 0s 7ms/step - loss: 0.7001 - accuracy: 0.5112 - val_loss: 0.6985 - val_accuracy: 0.5000\n",
      "Epoch 19/100\n",
      "12/12 [==============================] - 0s 6ms/step - loss: 0.6922 - accuracy: 0.5112 - val_loss: 0.6943 - val_accuracy: 0.5000\n",
      "Epoch 20/100\n",
      "12/12 [==============================] - 0s 7ms/step - loss: 0.6965 - accuracy: 0.5112 - val_loss: 0.6932 - val_accuracy: 0.5000\n",
      "Epoch 21/100\n",
      "12/12 [==============================] - 0s 7ms/step - loss: 0.6931 - accuracy: 0.5112 - val_loss: 0.6944 - val_accuracy: 0.5000\n",
      "Epoch 22/100\n",
      "12/12 [==============================] - 0s 7ms/step - loss: 0.6978 - accuracy: 0.5112 - val_loss: 0.6993 - val_accuracy: 0.5000\n",
      "Epoch 23/100\n",
      "12/12 [==============================] - 0s 7ms/step - loss: 0.6958 - accuracy: 0.5112 - val_loss: 0.6944 - val_accuracy: 0.5000\n",
      "Epoch 24/100\n",
      "12/12 [==============================] - 0s 6ms/step - loss: 0.6941 - accuracy: 0.5112 - val_loss: 0.6951 - val_accuracy: 0.5000\n",
      "Epoch 25/100\n",
      "12/12 [==============================] - 0s 7ms/step - loss: 0.6954 - accuracy: 0.5112 - val_loss: 0.6957 - val_accuracy: 0.5000\n",
      "Epoch 26/100\n",
      "12/12 [==============================] - 0s 6ms/step - loss: 0.6929 - accuracy: 0.5112 - val_loss: 0.6934 - val_accuracy: 0.5000\n",
      "Epoch 27/100\n",
      "12/12 [==============================] - 0s 6ms/step - loss: 0.6938 - accuracy: 0.5112 - val_loss: 0.6946 - val_accuracy: 0.5000\n",
      "Epoch 28/100\n",
      "12/12 [==============================] - 0s 7ms/step - loss: 0.6938 - accuracy: 0.5112 - val_loss: 0.6932 - val_accuracy: 0.5000\n",
      "Epoch 29/100\n",
      "12/12 [==============================] - 0s 6ms/step - loss: 0.6931 - accuracy: 0.5112 - val_loss: 0.6942 - val_accuracy: 0.5000\n",
      "Epoch 30/100\n",
      "12/12 [==============================] - 0s 6ms/step - loss: 0.6953 - accuracy: 0.5112 - val_loss: 0.6961 - val_accuracy: 0.5000\n",
      "Epoch 31/100\n",
      "12/12 [==============================] - 0s 6ms/step - loss: 0.6953 - accuracy: 0.5112 - val_loss: 0.6937 - val_accuracy: 0.5000\n",
      "Epoch 32/100\n",
      "12/12 [==============================] - 0s 6ms/step - loss: 0.6934 - accuracy: 0.5112 - val_loss: 0.6944 - val_accuracy: 0.5000\n",
      "Epoch 33/100\n",
      "12/12 [==============================] - 0s 6ms/step - loss: 0.6938 - accuracy: 0.5112 - val_loss: 0.6937 - val_accuracy: 0.5000\n",
      "Epoch 34/100\n",
      "12/12 [==============================] - 0s 6ms/step - loss: 0.6937 - accuracy: 0.5112 - val_loss: 0.6937 - val_accuracy: 0.5000\n",
      "Epoch 35/100\n",
      "12/12 [==============================] - 0s 6ms/step - loss: 0.6968 - accuracy: 0.5112 - val_loss: 0.6933 - val_accuracy: 0.5000\n",
      "Epoch 36/100\n",
      "12/12 [==============================] - 0s 6ms/step - loss: 0.6953 - accuracy: 0.5112 - val_loss: 0.6946 - val_accuracy: 0.5000\n",
      "Epoch 37/100\n",
      "12/12 [==============================] - 0s 6ms/step - loss: 0.6934 - accuracy: 0.5112 - val_loss: 0.6932 - val_accuracy: 0.5000\n",
      "Epoch 38/100\n",
      "12/12 [==============================] - 0s 6ms/step - loss: 0.6955 - accuracy: 0.5112 - val_loss: 0.6943 - val_accuracy: 0.5000\n",
      "Epoch 39/100\n",
      "12/12 [==============================] - 0s 6ms/step - loss: 0.6969 - accuracy: 0.5112 - val_loss: 0.6935 - val_accuracy: 0.5000\n",
      "Epoch 40/100\n",
      "12/12 [==============================] - 0s 7ms/step - loss: 0.6952 - accuracy: 0.5112 - val_loss: 0.6991 - val_accuracy: 0.5000\n",
      "Epoch 41/100\n",
      "12/12 [==============================] - 0s 7ms/step - loss: 0.6965 - accuracy: 0.5112 - val_loss: 0.6933 - val_accuracy: 0.5000\n",
      "Epoch 42/100\n",
      "12/12 [==============================] - 0s 6ms/step - loss: 0.6935 - accuracy: 0.5112 - val_loss: 0.6936 - val_accuracy: 0.5000\n",
      "Epoch 43/100\n",
      "12/12 [==============================] - 0s 6ms/step - loss: 0.6941 - accuracy: 0.5112 - val_loss: 0.6935 - val_accuracy: 0.5000\n",
      "Epoch 44/100\n",
      "12/12 [==============================] - 0s 6ms/step - loss: 0.6933 - accuracy: 0.5112 - val_loss: 0.6932 - val_accuracy: 0.5000\n",
      "Epoch 45/100\n",
      "12/12 [==============================] - 0s 6ms/step - loss: 0.6934 - accuracy: 0.5112 - val_loss: 0.6933 - val_accuracy: 0.5000\n",
      "Epoch 46/100\n",
      "12/12 [==============================] - 0s 8ms/step - loss: 0.6946 - accuracy: 0.5112 - val_loss: 0.6935 - val_accuracy: 0.5000\n",
      "Epoch 47/100\n",
      "12/12 [==============================] - 0s 7ms/step - loss: 0.6931 - accuracy: 0.5112 - val_loss: 0.6934 - val_accuracy: 0.5000\n",
      "Epoch 48/100\n",
      "12/12 [==============================] - 0s 7ms/step - loss: 0.6969 - accuracy: 0.5112 - val_loss: 0.6939 - val_accuracy: 0.5000\n",
      "Epoch 49/100\n",
      "12/12 [==============================] - 0s 7ms/step - loss: 0.6919 - accuracy: 0.5112 - val_loss: 0.6968 - val_accuracy: 0.5000\n",
      "Epoch 50/100\n",
      "12/12 [==============================] - 0s 8ms/step - loss: 0.6969 - accuracy: 0.5112 - val_loss: 0.6970 - val_accuracy: 0.5000\n",
      "Epoch 51/100\n",
      "12/12 [==============================] - 0s 6ms/step - loss: 0.6953 - accuracy: 0.5112 - val_loss: 0.6935 - val_accuracy: 0.5000\n",
      "Epoch 52/100\n",
      "12/12 [==============================] - 0s 6ms/step - loss: 0.6933 - accuracy: 0.5112 - val_loss: 0.6932 - val_accuracy: 0.5000\n",
      "Epoch 53/100\n",
      "12/12 [==============================] - 0s 6ms/step - loss: 0.6962 - accuracy: 0.5112 - val_loss: 0.6938 - val_accuracy: 0.5000\n",
      "Epoch 54/100\n",
      "12/12 [==============================] - 0s 7ms/step - loss: 0.6942 - accuracy: 0.5112 - val_loss: 0.6939 - val_accuracy: 0.5000\n",
      "Epoch 55/100\n",
      "12/12 [==============================] - 0s 6ms/step - loss: 0.6938 - accuracy: 0.5112 - val_loss: 0.6940 - val_accuracy: 0.5000\n",
      "Epoch 56/100\n",
      "12/12 [==============================] - 0s 7ms/step - loss: 0.6932 - accuracy: 0.5112 - val_loss: 0.6936 - val_accuracy: 0.5000\n",
      "Epoch 57/100\n",
      "12/12 [==============================] - 0s 6ms/step - loss: 0.6942 - accuracy: 0.5112 - val_loss: 0.6941 - val_accuracy: 0.5000\n",
      "Epoch 58/100\n",
      "12/12 [==============================] - 0s 7ms/step - loss: 0.6932 - accuracy: 0.5112 - val_loss: 0.6932 - val_accuracy: 0.5000\n",
      "Epoch 59/100\n",
      "12/12 [==============================] - 0s 7ms/step - loss: 0.6934 - accuracy: 0.5112 - val_loss: 0.6932 - val_accuracy: 0.5000\n",
      "Epoch 60/100\n",
      "12/12 [==============================] - 0s 6ms/step - loss: 0.6944 - accuracy: 0.5112 - val_loss: 0.6937 - val_accuracy: 0.5000\n",
      "Epoch 61/100\n",
      "12/12 [==============================] - 0s 7ms/step - loss: 0.6966 - accuracy: 0.5112 - val_loss: 0.6955 - val_accuracy: 0.5000\n",
      "Epoch 62/100\n",
      "12/12 [==============================] - 0s 6ms/step - loss: 0.6939 - accuracy: 0.5112 - val_loss: 0.6933 - val_accuracy: 0.5000\n",
      "Epoch 63/100\n",
      "12/12 [==============================] - 0s 6ms/step - loss: 0.6945 - accuracy: 0.5112 - val_loss: 0.6940 - val_accuracy: 0.5000\n",
      "Epoch 64/100\n",
      "12/12 [==============================] - 0s 6ms/step - loss: 0.6949 - accuracy: 0.5112 - val_loss: 0.6975 - val_accuracy: 0.5000\n",
      "Epoch 65/100\n",
      "12/12 [==============================] - 0s 6ms/step - loss: 0.6976 - accuracy: 0.5112 - val_loss: 0.6970 - val_accuracy: 0.5000\n",
      "Epoch 66/100\n",
      "12/12 [==============================] - 0s 6ms/step - loss: 0.6957 - accuracy: 0.5112 - val_loss: 0.6934 - val_accuracy: 0.5000\n",
      "Epoch 67/100\n",
      "12/12 [==============================] - 0s 6ms/step - loss: 0.6931 - accuracy: 0.5112 - val_loss: 0.6932 - val_accuracy: 0.5000\n",
      "Epoch 68/100\n",
      "12/12 [==============================] - 0s 6ms/step - loss: 0.6940 - accuracy: 0.5112 - val_loss: 0.6943 - val_accuracy: 0.5000\n",
      "Epoch 69/100\n",
      "12/12 [==============================] - 0s 7ms/step - loss: 0.6942 - accuracy: 0.5112 - val_loss: 0.6931 - val_accuracy: 0.5000\n",
      "Epoch 70/100\n",
      "12/12 [==============================] - 0s 6ms/step - loss: 0.6942 - accuracy: 0.5112 - val_loss: 0.6934 - val_accuracy: 0.5000\n",
      "Epoch 71/100\n",
      "12/12 [==============================] - 0s 6ms/step - loss: 0.6950 - accuracy: 0.5112 - val_loss: 0.6953 - val_accuracy: 0.5000\n",
      "Epoch 72/100\n",
      "12/12 [==============================] - 0s 6ms/step - loss: 0.6931 - accuracy: 0.5112 - val_loss: 0.6931 - val_accuracy: 0.5000\n",
      "Epoch 73/100\n",
      "12/12 [==============================] - 0s 8ms/step - loss: 0.6942 - accuracy: 0.5112 - val_loss: 0.6937 - val_accuracy: 0.5000\n",
      "Epoch 74/100\n",
      "12/12 [==============================] - 0s 7ms/step - loss: 0.6958 - accuracy: 0.5112 - val_loss: 0.6963 - val_accuracy: 0.5000\n",
      "Epoch 75/100\n",
      "12/12 [==============================] - 0s 8ms/step - loss: 0.6940 - accuracy: 0.5112 - val_loss: 0.6932 - val_accuracy: 0.5000\n",
      "Epoch 76/100\n",
      "12/12 [==============================] - 0s 7ms/step - loss: 0.6964 - accuracy: 0.5112 - val_loss: 0.6965 - val_accuracy: 0.5000\n",
      "Epoch 77/100\n",
      "12/12 [==============================] - 0s 6ms/step - loss: 0.6958 - accuracy: 0.5112 - val_loss: 0.6965 - val_accuracy: 0.5000\n",
      "Epoch 78/100\n",
      "12/12 [==============================] - 0s 6ms/step - loss: 0.6966 - accuracy: 0.5112 - val_loss: 0.6957 - val_accuracy: 0.5000\n",
      "Epoch 79/100\n",
      "12/12 [==============================] - 0s 6ms/step - loss: 0.6982 - accuracy: 0.5112 - val_loss: 0.6974 - val_accuracy: 0.5000\n",
      "Epoch 80/100\n",
      "12/12 [==============================] - 0s 6ms/step - loss: 0.6983 - accuracy: 0.5112 - val_loss: 0.6932 - val_accuracy: 0.5000\n",
      "Epoch 81/100\n",
      "12/12 [==============================] - 0s 6ms/step - loss: 0.6939 - accuracy: 0.5112 - val_loss: 0.6937 - val_accuracy: 0.5000\n",
      "Epoch 82/100\n",
      "12/12 [==============================] - 0s 6ms/step - loss: 0.6937 - accuracy: 0.5112 - val_loss: 0.6938 - val_accuracy: 0.5000\n",
      "Epoch 83/100\n",
      "12/12 [==============================] - 0s 6ms/step - loss: 0.6935 - accuracy: 0.5112 - val_loss: 0.6948 - val_accuracy: 0.5000\n",
      "Epoch 84/100\n",
      "12/12 [==============================] - 0s 6ms/step - loss: 0.6947 - accuracy: 0.5112 - val_loss: 0.6960 - val_accuracy: 0.5000\n",
      "Epoch 85/100\n",
      "12/12 [==============================] - 0s 6ms/step - loss: 0.6973 - accuracy: 0.5112 - val_loss: 0.6960 - val_accuracy: 0.5000\n",
      "Epoch 86/100\n",
      "12/12 [==============================] - 0s 6ms/step - loss: 0.6950 - accuracy: 0.5112 - val_loss: 0.6932 - val_accuracy: 0.5000\n",
      "Epoch 87/100\n",
      "12/12 [==============================] - 0s 6ms/step - loss: 0.6936 - accuracy: 0.5112 - val_loss: 0.6936 - val_accuracy: 0.5000\n",
      "Epoch 88/100\n",
      "12/12 [==============================] - 0s 6ms/step - loss: 0.6935 - accuracy: 0.5112 - val_loss: 0.6932 - val_accuracy: 0.5000\n",
      "Epoch 89/100\n",
      "12/12 [==============================] - 0s 6ms/step - loss: 0.6936 - accuracy: 0.5112 - val_loss: 0.6932 - val_accuracy: 0.5000\n",
      "Epoch 90/100\n",
      "12/12 [==============================] - 0s 6ms/step - loss: 0.6936 - accuracy: 0.5112 - val_loss: 0.6933 - val_accuracy: 0.5000\n",
      "Epoch 91/100\n",
      "12/12 [==============================] - 0s 6ms/step - loss: 0.6940 - accuracy: 0.5112 - val_loss: 0.6941 - val_accuracy: 0.5000\n",
      "Epoch 92/100\n",
      "12/12 [==============================] - 0s 6ms/step - loss: 0.6943 - accuracy: 0.5112 - val_loss: 0.6933 - val_accuracy: 0.5000\n",
      "Epoch 93/100\n",
      "12/12 [==============================] - 0s 7ms/step - loss: 0.6993 - accuracy: 0.5112 - val_loss: 0.6962 - val_accuracy: 0.5000\n",
      "Epoch 94/100\n",
      "12/12 [==============================] - 0s 6ms/step - loss: 0.6956 - accuracy: 0.5112 - val_loss: 0.6943 - val_accuracy: 0.5000\n",
      "Epoch 95/100\n",
      "12/12 [==============================] - 0s 6ms/step - loss: 0.7025 - accuracy: 0.5112 - val_loss: 0.6976 - val_accuracy: 0.5000\n",
      "Epoch 96/100\n",
      "12/12 [==============================] - 0s 6ms/step - loss: 0.6938 - accuracy: 0.5112 - val_loss: 0.6932 - val_accuracy: 0.5000\n",
      "Epoch 97/100\n",
      "12/12 [==============================] - 0s 5ms/step - loss: 0.6932 - accuracy: 0.5112 - val_loss: 0.6931 - val_accuracy: 0.5000\n",
      "Epoch 98/100\n",
      "12/12 [==============================] - 0s 6ms/step - loss: 0.6947 - accuracy: 0.5112 - val_loss: 0.6934 - val_accuracy: 0.5000\n",
      "Epoch 99/100\n",
      "12/12 [==============================] - 0s 6ms/step - loss: 0.6961 - accuracy: 0.5112 - val_loss: 0.6966 - val_accuracy: 0.5000\n",
      "Epoch 100/100\n",
      "12/12 [==============================] - 0s 6ms/step - loss: 0.6933 - accuracy: 0.5112 - val_loss: 0.6932 - val_accuracy: 0.5000\n"
     ]
    },
    {
     "ename": "KeyboardInterrupt",
     "evalue": "",
     "output_type": "error",
     "traceback": [
      "\u001b[1;31m---------------------------------------------------------------------------\u001b[0m",
      "\u001b[1;31mKeyboardInterrupt\u001b[0m                         Traceback (most recent call last)",
      "\u001b[1;32mc:\\Users\\Ale\\OneDrive - Universidad San Francisco de Quito\\Semestre 9\\Data Mining\\Proyectos\\Data_Mining\\proyecto7\\proyecto7.ipynb Cell 4\u001b[0m line \u001b[0;36m2\n\u001b[0;32m     <a href='vscode-notebook-cell:/c%3A/Users/Ale/OneDrive%20-%20Universidad%20San%20Francisco%20de%20Quito/Semestre%209/Data%20Mining/Proyectos/Data_Mining/proyecto7/proyecto7.ipynb#W3sZmlsZQ%3D%3D?line=17'>18</a>\u001b[0m y_train,y_val\u001b[39m=\u001b[39my[train_index],y[val_index]\n\u001b[0;32m     <a href='vscode-notebook-cell:/c%3A/Users/Ale/OneDrive%20-%20Universidad%20San%20Francisco%20de%20Quito/Semestre%209/Data%20Mining/Proyectos/Data_Mining/proyecto7/proyecto7.ipynb#W3sZmlsZQ%3D%3D?line=19'>20</a>\u001b[0m tf\u001b[39m.\u001b[39mkeras\u001b[39m.\u001b[39mbackend\u001b[39m.\u001b[39mclear_session() \u001b[39m# Clear session before building the model\u001b[39;00m\n\u001b[1;32m---> <a href='vscode-notebook-cell:/c%3A/Users/Ale/OneDrive%20-%20Universidad%20San%20Francisco%20de%20Quito/Semestre%209/Data%20Mining/Proyectos/Data_Mining/proyecto7/proyecto7.ipynb#W3sZmlsZQ%3D%3D?line=21'>22</a>\u001b[0m model \u001b[39m=\u001b[39m tf\u001b[39m.\u001b[39;49mkeras\u001b[39m.\u001b[39;49mmodels\u001b[39m.\u001b[39;49mSequential([\n\u001b[0;32m     <a href='vscode-notebook-cell:/c%3A/Users/Ale/OneDrive%20-%20Universidad%20San%20Francisco%20de%20Quito/Semestre%209/Data%20Mining/Proyectos/Data_Mining/proyecto7/proyecto7.ipynb#W3sZmlsZQ%3D%3D?line=22'>23</a>\u001b[0m     tf\u001b[39m.\u001b[39;49mkeras\u001b[39m.\u001b[39;49mlayers\u001b[39m.\u001b[39;49mDense(\u001b[39mlen\u001b[39;49m(X), activation\u001b[39m=\u001b[39;49m\u001b[39m'\u001b[39;49m\u001b[39mrelu\u001b[39;49m\u001b[39m'\u001b[39;49m, input_shape\u001b[39m=\u001b[39;49m(X_train\u001b[39m.\u001b[39;49mshape[\u001b[39m1\u001b[39;49m],)),\n\u001b[0;32m     <a href='vscode-notebook-cell:/c%3A/Users/Ale/OneDrive%20-%20Universidad%20San%20Francisco%20de%20Quito/Semestre%209/Data%20Mining/Proyectos/Data_Mining/proyecto7/proyecto7.ipynb#W3sZmlsZQ%3D%3D?line=23'>24</a>\u001b[0m     tf\u001b[39m.\u001b[39;49mkeras\u001b[39m.\u001b[39;49mlayers\u001b[39m.\u001b[39;49mDense(\u001b[39m64\u001b[39;49m, activation\u001b[39m=\u001b[39;49m\u001b[39m'\u001b[39;49m\u001b[39mrelu\u001b[39;49m\u001b[39m'\u001b[39;49m),\n\u001b[0;32m     <a href='vscode-notebook-cell:/c%3A/Users/Ale/OneDrive%20-%20Universidad%20San%20Francisco%20de%20Quito/Semestre%209/Data%20Mining/Proyectos/Data_Mining/proyecto7/proyecto7.ipynb#W3sZmlsZQ%3D%3D?line=24'>25</a>\u001b[0m     tf\u001b[39m.\u001b[39;49mkeras\u001b[39m.\u001b[39;49mlayers\u001b[39m.\u001b[39;49mDense(\u001b[39m64\u001b[39;49m, activation\u001b[39m=\u001b[39;49m\u001b[39m'\u001b[39;49m\u001b[39mrelu\u001b[39;49m\u001b[39m'\u001b[39;49m),\n\u001b[0;32m     <a href='vscode-notebook-cell:/c%3A/Users/Ale/OneDrive%20-%20Universidad%20San%20Francisco%20de%20Quito/Semestre%209/Data%20Mining/Proyectos/Data_Mining/proyecto7/proyecto7.ipynb#W3sZmlsZQ%3D%3D?line=25'>26</a>\u001b[0m     tf\u001b[39m.\u001b[39;49mkeras\u001b[39m.\u001b[39;49mlayers\u001b[39m.\u001b[39;49mDense(\u001b[39m1\u001b[39;49m, activation\u001b[39m=\u001b[39;49m\u001b[39m'\u001b[39;49m\u001b[39msoftmax\u001b[39;49m\u001b[39m'\u001b[39;49m)\n\u001b[0;32m     <a href='vscode-notebook-cell:/c%3A/Users/Ale/OneDrive%20-%20Universidad%20San%20Francisco%20de%20Quito/Semestre%209/Data%20Mining/Proyectos/Data_Mining/proyecto7/proyecto7.ipynb#W3sZmlsZQ%3D%3D?line=26'>27</a>\u001b[0m ])\n\u001b[0;32m     <a href='vscode-notebook-cell:/c%3A/Users/Ale/OneDrive%20-%20Universidad%20San%20Francisco%20de%20Quito/Semestre%209/Data%20Mining/Proyectos/Data_Mining/proyecto7/proyecto7.ipynb#W3sZmlsZQ%3D%3D?line=28'>29</a>\u001b[0m optimizer \u001b[39m=\u001b[39m tf\u001b[39m.\u001b[39mkeras\u001b[39m.\u001b[39moptimizers\u001b[39m.\u001b[39mAdam(learning_rate\u001b[39m=\u001b[39m\u001b[39m0.1\u001b[39m)\n\u001b[0;32m     <a href='vscode-notebook-cell:/c%3A/Users/Ale/OneDrive%20-%20Universidad%20San%20Francisco%20de%20Quito/Semestre%209/Data%20Mining/Proyectos/Data_Mining/proyecto7/proyecto7.ipynb#W3sZmlsZQ%3D%3D?line=29'>30</a>\u001b[0m model\u001b[39m.\u001b[39mcompile(optimizer\u001b[39m=\u001b[39moptimizer,\n\u001b[0;32m     <a href='vscode-notebook-cell:/c%3A/Users/Ale/OneDrive%20-%20Universidad%20San%20Francisco%20de%20Quito/Semestre%209/Data%20Mining/Proyectos/Data_Mining/proyecto7/proyecto7.ipynb#W3sZmlsZQ%3D%3D?line=30'>31</a>\u001b[0m             loss\u001b[39m=\u001b[39m\u001b[39m'\u001b[39m\u001b[39mbinary_crossentropy\u001b[39m\u001b[39m'\u001b[39m,\n\u001b[0;32m     <a href='vscode-notebook-cell:/c%3A/Users/Ale/OneDrive%20-%20Universidad%20San%20Francisco%20de%20Quito/Semestre%209/Data%20Mining/Proyectos/Data_Mining/proyecto7/proyecto7.ipynb#W3sZmlsZQ%3D%3D?line=31'>32</a>\u001b[0m             metrics\u001b[39m=\u001b[39m[\u001b[39m'\u001b[39m\u001b[39maccuracy\u001b[39m\u001b[39m'\u001b[39m],\n\u001b[0;32m     <a href='vscode-notebook-cell:/c%3A/Users/Ale/OneDrive%20-%20Universidad%20San%20Francisco%20de%20Quito/Semestre%209/Data%20Mining/Proyectos/Data_Mining/proyecto7/proyecto7.ipynb#W3sZmlsZQ%3D%3D?line=32'>33</a>\u001b[0m             )  \n",
      "File \u001b[1;32mc:\\Users\\Ale\\anaconda3\\envs\\data_mining\\lib\\site-packages\\tensorflow\\python\\trackable\\base.py:204\u001b[0m, in \u001b[0;36mno_automatic_dependency_tracking.<locals>._method_wrapper\u001b[1;34m(self, *args, **kwargs)\u001b[0m\n\u001b[0;32m    202\u001b[0m \u001b[39mself\u001b[39m\u001b[39m.\u001b[39m_self_setattr_tracking \u001b[39m=\u001b[39m \u001b[39mFalse\u001b[39;00m  \u001b[39m# pylint: disable=protected-access\u001b[39;00m\n\u001b[0;32m    203\u001b[0m \u001b[39mtry\u001b[39;00m:\n\u001b[1;32m--> 204\u001b[0m   result \u001b[39m=\u001b[39m method(\u001b[39mself\u001b[39;49m, \u001b[39m*\u001b[39;49margs, \u001b[39m*\u001b[39;49m\u001b[39m*\u001b[39;49mkwargs)\n\u001b[0;32m    205\u001b[0m \u001b[39mfinally\u001b[39;00m:\n\u001b[0;32m    206\u001b[0m   \u001b[39mself\u001b[39m\u001b[39m.\u001b[39m_self_setattr_tracking \u001b[39m=\u001b[39m previous_value  \u001b[39m# pylint: disable=protected-access\u001b[39;00m\n",
      "File \u001b[1;32mc:\\Users\\Ale\\anaconda3\\envs\\data_mining\\lib\\site-packages\\keras\\src\\utils\\traceback_utils.py:65\u001b[0m, in \u001b[0;36mfilter_traceback.<locals>.error_handler\u001b[1;34m(*args, **kwargs)\u001b[0m\n\u001b[0;32m     63\u001b[0m filtered_tb \u001b[39m=\u001b[39m \u001b[39mNone\u001b[39;00m\n\u001b[0;32m     64\u001b[0m \u001b[39mtry\u001b[39;00m:\n\u001b[1;32m---> 65\u001b[0m     \u001b[39mreturn\u001b[39;00m fn(\u001b[39m*\u001b[39;49margs, \u001b[39m*\u001b[39;49m\u001b[39m*\u001b[39;49mkwargs)\n\u001b[0;32m     66\u001b[0m \u001b[39mexcept\u001b[39;00m \u001b[39mException\u001b[39;00m \u001b[39mas\u001b[39;00m e:\n\u001b[0;32m     67\u001b[0m     filtered_tb \u001b[39m=\u001b[39m _process_traceback_frames(e\u001b[39m.\u001b[39m__traceback__)\n",
      "File \u001b[1;32mc:\\Users\\Ale\\anaconda3\\envs\\data_mining\\lib\\site-packages\\keras\\src\\engine\\sequential.py:142\u001b[0m, in \u001b[0;36mSequential.__init__\u001b[1;34m(self, layers, name)\u001b[0m\n\u001b[0;32m    140\u001b[0m     layers \u001b[39m=\u001b[39m [layers]\n\u001b[0;32m    141\u001b[0m \u001b[39mfor\u001b[39;00m layer \u001b[39min\u001b[39;00m layers:\n\u001b[1;32m--> 142\u001b[0m     \u001b[39mself\u001b[39;49m\u001b[39m.\u001b[39;49madd(layer)\n",
      "File \u001b[1;32mc:\\Users\\Ale\\anaconda3\\envs\\data_mining\\lib\\site-packages\\tensorflow\\python\\trackable\\base.py:204\u001b[0m, in \u001b[0;36mno_automatic_dependency_tracking.<locals>._method_wrapper\u001b[1;34m(self, *args, **kwargs)\u001b[0m\n\u001b[0;32m    202\u001b[0m \u001b[39mself\u001b[39m\u001b[39m.\u001b[39m_self_setattr_tracking \u001b[39m=\u001b[39m \u001b[39mFalse\u001b[39;00m  \u001b[39m# pylint: disable=protected-access\u001b[39;00m\n\u001b[0;32m    203\u001b[0m \u001b[39mtry\u001b[39;00m:\n\u001b[1;32m--> 204\u001b[0m   result \u001b[39m=\u001b[39m method(\u001b[39mself\u001b[39;49m, \u001b[39m*\u001b[39;49margs, \u001b[39m*\u001b[39;49m\u001b[39m*\u001b[39;49mkwargs)\n\u001b[0;32m    205\u001b[0m \u001b[39mfinally\u001b[39;00m:\n\u001b[0;32m    206\u001b[0m   \u001b[39mself\u001b[39m\u001b[39m.\u001b[39m_self_setattr_tracking \u001b[39m=\u001b[39m previous_value  \u001b[39m# pylint: disable=protected-access\u001b[39;00m\n",
      "File \u001b[1;32mc:\\Users\\Ale\\anaconda3\\envs\\data_mining\\lib\\site-packages\\keras\\src\\utils\\traceback_utils.py:65\u001b[0m, in \u001b[0;36mfilter_traceback.<locals>.error_handler\u001b[1;34m(*args, **kwargs)\u001b[0m\n\u001b[0;32m     63\u001b[0m filtered_tb \u001b[39m=\u001b[39m \u001b[39mNone\u001b[39;00m\n\u001b[0;32m     64\u001b[0m \u001b[39mtry\u001b[39;00m:\n\u001b[1;32m---> 65\u001b[0m     \u001b[39mreturn\u001b[39;00m fn(\u001b[39m*\u001b[39;49margs, \u001b[39m*\u001b[39;49m\u001b[39m*\u001b[39;49mkwargs)\n\u001b[0;32m     66\u001b[0m \u001b[39mexcept\u001b[39;00m \u001b[39mException\u001b[39;00m \u001b[39mas\u001b[39;00m e:\n\u001b[0;32m     67\u001b[0m     filtered_tb \u001b[39m=\u001b[39m _process_traceback_frames(e\u001b[39m.\u001b[39m__traceback__)\n",
      "File \u001b[1;32mc:\\Users\\Ale\\anaconda3\\envs\\data_mining\\lib\\site-packages\\keras\\src\\engine\\sequential.py:236\u001b[0m, in \u001b[0;36mSequential.add\u001b[1;34m(self, layer)\u001b[0m\n\u001b[0;32m    231\u001b[0m         \u001b[39mself\u001b[39m\u001b[39m.\u001b[39m_has_explicit_input_shape \u001b[39m=\u001b[39m \u001b[39mTrue\u001b[39;00m\n\u001b[0;32m    233\u001b[0m \u001b[39melif\u001b[39;00m \u001b[39mself\u001b[39m\u001b[39m.\u001b[39moutputs:\n\u001b[0;32m    234\u001b[0m     \u001b[39m# If the model is being built continuously on top of an input layer:\u001b[39;00m\n\u001b[0;32m    235\u001b[0m     \u001b[39m# refresh its output.\u001b[39;00m\n\u001b[1;32m--> 236\u001b[0m     output_tensor \u001b[39m=\u001b[39m layer(\u001b[39mself\u001b[39;49m\u001b[39m.\u001b[39;49moutputs[\u001b[39m0\u001b[39;49m])\n\u001b[0;32m    237\u001b[0m     \u001b[39mif\u001b[39;00m \u001b[39mlen\u001b[39m(tf\u001b[39m.\u001b[39mnest\u001b[39m.\u001b[39mflatten(output_tensor)) \u001b[39m!=\u001b[39m \u001b[39m1\u001b[39m:\n\u001b[0;32m    238\u001b[0m         \u001b[39mraise\u001b[39;00m \u001b[39mValueError\u001b[39;00m(SINGLE_LAYER_OUTPUT_ERROR_MSG)\n",
      "File \u001b[1;32mc:\\Users\\Ale\\anaconda3\\envs\\data_mining\\lib\\site-packages\\keras\\src\\utils\\traceback_utils.py:65\u001b[0m, in \u001b[0;36mfilter_traceback.<locals>.error_handler\u001b[1;34m(*args, **kwargs)\u001b[0m\n\u001b[0;32m     63\u001b[0m filtered_tb \u001b[39m=\u001b[39m \u001b[39mNone\u001b[39;00m\n\u001b[0;32m     64\u001b[0m \u001b[39mtry\u001b[39;00m:\n\u001b[1;32m---> 65\u001b[0m     \u001b[39mreturn\u001b[39;00m fn(\u001b[39m*\u001b[39;49margs, \u001b[39m*\u001b[39;49m\u001b[39m*\u001b[39;49mkwargs)\n\u001b[0;32m     66\u001b[0m \u001b[39mexcept\u001b[39;00m \u001b[39mException\u001b[39;00m \u001b[39mas\u001b[39;00m e:\n\u001b[0;32m     67\u001b[0m     filtered_tb \u001b[39m=\u001b[39m _process_traceback_frames(e\u001b[39m.\u001b[39m__traceback__)\n",
      "File \u001b[1;32mc:\\Users\\Ale\\anaconda3\\envs\\data_mining\\lib\\site-packages\\keras\\src\\engine\\base_layer.py:1063\u001b[0m, in \u001b[0;36mLayer.__call__\u001b[1;34m(self, *args, **kwargs)\u001b[0m\n\u001b[0;32m   1055\u001b[0m \u001b[39m# Functional Model construction mode is invoked when `Layer`s are called\u001b[39;00m\n\u001b[0;32m   1056\u001b[0m \u001b[39m# on symbolic `KerasTensor`s, i.e.:\u001b[39;00m\n\u001b[0;32m   1057\u001b[0m \u001b[39m# >> inputs = tf.keras.Input(10)\u001b[39;00m\n\u001b[0;32m   1058\u001b[0m \u001b[39m# >> outputs = MyLayer()(inputs)  # Functional construction mode.\u001b[39;00m\n\u001b[0;32m   1059\u001b[0m \u001b[39m# >> model = tf.keras.Model(inputs, outputs)\u001b[39;00m\n\u001b[0;32m   1060\u001b[0m \u001b[39mif\u001b[39;00m _in_functional_construction_mode(\n\u001b[0;32m   1061\u001b[0m     \u001b[39mself\u001b[39m, inputs, args, kwargs, input_list\n\u001b[0;32m   1062\u001b[0m ):\n\u001b[1;32m-> 1063\u001b[0m     \u001b[39mreturn\u001b[39;00m \u001b[39mself\u001b[39;49m\u001b[39m.\u001b[39;49m_functional_construction_call(\n\u001b[0;32m   1064\u001b[0m         inputs, args, kwargs, input_list\n\u001b[0;32m   1065\u001b[0m     )\n\u001b[0;32m   1067\u001b[0m \u001b[39m# Maintains info about the `Layer.call` stack.\u001b[39;00m\n\u001b[0;32m   1068\u001b[0m call_context \u001b[39m=\u001b[39m base_layer_utils\u001b[39m.\u001b[39mcall_context()\n",
      "File \u001b[1;32mc:\\Users\\Ale\\anaconda3\\envs\\data_mining\\lib\\site-packages\\keras\\src\\engine\\base_layer.py:2603\u001b[0m, in \u001b[0;36mLayer._functional_construction_call\u001b[1;34m(self, inputs, args, kwargs, input_list)\u001b[0m\n\u001b[0;32m   2597\u001b[0m \u001b[39mwith\u001b[39;00m call_context\u001b[39m.\u001b[39menter(\n\u001b[0;32m   2598\u001b[0m     layer\u001b[39m=\u001b[39m\u001b[39mself\u001b[39m, inputs\u001b[39m=\u001b[39minputs, build_graph\u001b[39m=\u001b[39m\u001b[39mTrue\u001b[39;00m, training\u001b[39m=\u001b[39mtraining_value\n\u001b[0;32m   2599\u001b[0m ):\n\u001b[0;32m   2600\u001b[0m     \u001b[39m# Check input assumptions set after layer building, e.g. input\u001b[39;00m\n\u001b[0;32m   2601\u001b[0m     \u001b[39m# shape.\u001b[39;00m\n\u001b[0;32m   2602\u001b[0m     \u001b[39mtry\u001b[39;00m:\n\u001b[1;32m-> 2603\u001b[0m         outputs \u001b[39m=\u001b[39m \u001b[39mself\u001b[39;49m\u001b[39m.\u001b[39;49m_keras_tensor_symbolic_call(\n\u001b[0;32m   2604\u001b[0m             inputs, input_masks, args, kwargs\n\u001b[0;32m   2605\u001b[0m         )\n\u001b[0;32m   2606\u001b[0m     \u001b[39mexcept\u001b[39;00m \u001b[39mTypeError\u001b[39;00m \u001b[39mas\u001b[39;00m e:\n\u001b[0;32m   2607\u001b[0m         \u001b[39mif\u001b[39;00m \u001b[39m\"\u001b[39m\u001b[39mDictWrapper\u001b[39m\u001b[39m\"\u001b[39m \u001b[39min\u001b[39;00m \u001b[39mstr\u001b[39m(e):\n",
      "File \u001b[1;32mc:\\Users\\Ale\\anaconda3\\envs\\data_mining\\lib\\site-packages\\keras\\src\\engine\\base_layer.py:2449\u001b[0m, in \u001b[0;36mLayer._keras_tensor_symbolic_call\u001b[1;34m(self, inputs, input_masks, args, kwargs)\u001b[0m\n\u001b[0;32m   2445\u001b[0m     \u001b[39mreturn\u001b[39;00m tf\u001b[39m.\u001b[39mnest\u001b[39m.\u001b[39mmap_structure(\n\u001b[0;32m   2446\u001b[0m         keras_tensor\u001b[39m.\u001b[39mKerasTensor, output_signature\n\u001b[0;32m   2447\u001b[0m     )\n\u001b[0;32m   2448\u001b[0m \u001b[39melse\u001b[39;00m:\n\u001b[1;32m-> 2449\u001b[0m     \u001b[39mreturn\u001b[39;00m \u001b[39mself\u001b[39;49m\u001b[39m.\u001b[39;49m_infer_output_signature(\n\u001b[0;32m   2450\u001b[0m         inputs, args, kwargs, input_masks\n\u001b[0;32m   2451\u001b[0m     )\n",
      "File \u001b[1;32mc:\\Users\\Ale\\anaconda3\\envs\\data_mining\\lib\\site-packages\\keras\\src\\engine\\base_layer.py:2506\u001b[0m, in \u001b[0;36mLayer._infer_output_signature\u001b[1;34m(self, inputs, args, kwargs, input_masks)\u001b[0m\n\u001b[0;32m   2498\u001b[0m \u001b[39mwith\u001b[39;00m backend\u001b[39m.\u001b[39mname_scope(\u001b[39mself\u001b[39m\u001b[39m.\u001b[39m_name_scope()):\n\u001b[0;32m   2499\u001b[0m     \u001b[39mwith\u001b[39;00m autocast_variable\u001b[39m.\u001b[39menable_auto_cast_variables(\n\u001b[0;32m   2500\u001b[0m         \u001b[39mself\u001b[39m\u001b[39m.\u001b[39m_compute_dtype_object\n\u001b[0;32m   2501\u001b[0m     ):\n\u001b[1;32m   (...)\u001b[0m\n\u001b[0;32m   2504\u001b[0m         \u001b[39m# TODO(kaftan): do we maybe_build here, or have we already\u001b[39;00m\n\u001b[0;32m   2505\u001b[0m         \u001b[39m# done it?\u001b[39;00m\n\u001b[1;32m-> 2506\u001b[0m         \u001b[39mself\u001b[39;49m\u001b[39m.\u001b[39;49m_maybe_build(inputs)\n\u001b[0;32m   2507\u001b[0m         inputs \u001b[39m=\u001b[39m \u001b[39mself\u001b[39m\u001b[39m.\u001b[39m_maybe_cast_inputs(inputs)\n\u001b[0;32m   2508\u001b[0m         outputs \u001b[39m=\u001b[39m call_fn(inputs, \u001b[39m*\u001b[39margs, \u001b[39m*\u001b[39m\u001b[39m*\u001b[39mkwargs)\n",
      "File \u001b[1;32mc:\\Users\\Ale\\anaconda3\\envs\\data_mining\\lib\\site-packages\\keras\\src\\engine\\base_layer.py:3035\u001b[0m, in \u001b[0;36mLayer._maybe_build\u001b[1;34m(self, inputs)\u001b[0m\n\u001b[0;32m   3030\u001b[0m \u001b[39mif\u001b[39;00m \u001b[39mnot\u001b[39;00m \u001b[39mhasattr\u001b[39m(\u001b[39mself\u001b[39m\u001b[39m.\u001b[39mbuild, \u001b[39m\"\u001b[39m\u001b[39m_is_default\u001b[39m\u001b[39m\"\u001b[39m):\n\u001b[0;32m   3031\u001b[0m     \u001b[39m# Any setup work performed only once should happen in an\u001b[39;00m\n\u001b[0;32m   3032\u001b[0m     \u001b[39m# `init_scope` to avoid creating symbolic Tensors that will\u001b[39;00m\n\u001b[0;32m   3033\u001b[0m     \u001b[39m# later pollute any eager operations.\u001b[39;00m\n\u001b[0;32m   3034\u001b[0m     \u001b[39mwith\u001b[39;00m tf_utils\u001b[39m.\u001b[39mmaybe_init_scope(\u001b[39mself\u001b[39m):\n\u001b[1;32m-> 3035\u001b[0m         \u001b[39mself\u001b[39;49m\u001b[39m.\u001b[39;49mbuild(input_shapes)\n\u001b[0;32m   3036\u001b[0m \u001b[39m# We must set also ensure that the layer is marked as built, and the\u001b[39;00m\n\u001b[0;32m   3037\u001b[0m \u001b[39m# build shape is stored since user defined build functions may not\u001b[39;00m\n\u001b[0;32m   3038\u001b[0m \u001b[39m# be calling `super.build()`\u001b[39;00m\n\u001b[0;32m   3039\u001b[0m Layer\u001b[39m.\u001b[39mbuild(\u001b[39mself\u001b[39m, input_shapes)\n",
      "File \u001b[1;32mc:\\Users\\Ale\\anaconda3\\envs\\data_mining\\lib\\site-packages\\keras\\src\\layers\\core\\dense.py:154\u001b[0m, in \u001b[0;36mDense.build\u001b[1;34m(self, input_shape)\u001b[0m\n\u001b[0;32m    148\u001b[0m     \u001b[39mraise\u001b[39;00m \u001b[39mValueError\u001b[39;00m(\n\u001b[0;32m    149\u001b[0m         \u001b[39m\"\u001b[39m\u001b[39mThe last dimension of the inputs to a Dense layer \u001b[39m\u001b[39m\"\u001b[39m\n\u001b[0;32m    150\u001b[0m         \u001b[39m\"\u001b[39m\u001b[39mshould be defined. Found None. \u001b[39m\u001b[39m\"\u001b[39m\n\u001b[0;32m    151\u001b[0m         \u001b[39mf\u001b[39m\u001b[39m\"\u001b[39m\u001b[39mFull input shape received: \u001b[39m\u001b[39m{\u001b[39;00minput_shape\u001b[39m}\u001b[39;00m\u001b[39m\"\u001b[39m\n\u001b[0;32m    152\u001b[0m     )\n\u001b[0;32m    153\u001b[0m \u001b[39mself\u001b[39m\u001b[39m.\u001b[39minput_spec \u001b[39m=\u001b[39m InputSpec(min_ndim\u001b[39m=\u001b[39m\u001b[39m2\u001b[39m, axes\u001b[39m=\u001b[39m{\u001b[39m-\u001b[39m\u001b[39m1\u001b[39m: last_dim})\n\u001b[1;32m--> 154\u001b[0m \u001b[39mself\u001b[39m\u001b[39m.\u001b[39mkernel \u001b[39m=\u001b[39m \u001b[39mself\u001b[39;49m\u001b[39m.\u001b[39;49madd_weight(\n\u001b[0;32m    155\u001b[0m     \u001b[39m\"\u001b[39;49m\u001b[39mkernel\u001b[39;49m\u001b[39m\"\u001b[39;49m,\n\u001b[0;32m    156\u001b[0m     shape\u001b[39m=\u001b[39;49m[last_dim, \u001b[39mself\u001b[39;49m\u001b[39m.\u001b[39;49munits],\n\u001b[0;32m    157\u001b[0m     initializer\u001b[39m=\u001b[39;49m\u001b[39mself\u001b[39;49m\u001b[39m.\u001b[39;49mkernel_initializer,\n\u001b[0;32m    158\u001b[0m     regularizer\u001b[39m=\u001b[39;49m\u001b[39mself\u001b[39;49m\u001b[39m.\u001b[39;49mkernel_regularizer,\n\u001b[0;32m    159\u001b[0m     constraint\u001b[39m=\u001b[39;49m\u001b[39mself\u001b[39;49m\u001b[39m.\u001b[39;49mkernel_constraint,\n\u001b[0;32m    160\u001b[0m     dtype\u001b[39m=\u001b[39;49m\u001b[39mself\u001b[39;49m\u001b[39m.\u001b[39;49mdtype,\n\u001b[0;32m    161\u001b[0m     trainable\u001b[39m=\u001b[39;49m\u001b[39mTrue\u001b[39;49;00m,\n\u001b[0;32m    162\u001b[0m )\n\u001b[0;32m    163\u001b[0m \u001b[39mif\u001b[39;00m \u001b[39mself\u001b[39m\u001b[39m.\u001b[39muse_bias:\n\u001b[0;32m    164\u001b[0m     \u001b[39mself\u001b[39m\u001b[39m.\u001b[39mbias \u001b[39m=\u001b[39m \u001b[39mself\u001b[39m\u001b[39m.\u001b[39madd_weight(\n\u001b[0;32m    165\u001b[0m         \u001b[39m\"\u001b[39m\u001b[39mbias\u001b[39m\u001b[39m\"\u001b[39m,\n\u001b[0;32m    166\u001b[0m         shape\u001b[39m=\u001b[39m[\n\u001b[1;32m   (...)\u001b[0m\n\u001b[0;32m    173\u001b[0m         trainable\u001b[39m=\u001b[39m\u001b[39mTrue\u001b[39;00m,\n\u001b[0;32m    174\u001b[0m     )\n",
      "File \u001b[1;32mc:\\Users\\Ale\\anaconda3\\envs\\data_mining\\lib\\site-packages\\keras\\src\\engine\\base_layer.py:712\u001b[0m, in \u001b[0;36mLayer.add_weight\u001b[1;34m(self, name, shape, dtype, initializer, regularizer, trainable, constraint, use_resource, synchronization, aggregation, **kwargs)\u001b[0m\n\u001b[0;32m    709\u001b[0m \u001b[39mif\u001b[39;00m layout:\n\u001b[0;32m    710\u001b[0m     getter \u001b[39m=\u001b[39m functools\u001b[39m.\u001b[39mpartial(getter, layout\u001b[39m=\u001b[39mlayout)\n\u001b[1;32m--> 712\u001b[0m variable \u001b[39m=\u001b[39m \u001b[39mself\u001b[39;49m\u001b[39m.\u001b[39;49m_add_variable_with_custom_getter(\n\u001b[0;32m    713\u001b[0m     name\u001b[39m=\u001b[39;49mname,\n\u001b[0;32m    714\u001b[0m     shape\u001b[39m=\u001b[39;49mshape,\n\u001b[0;32m    715\u001b[0m     \u001b[39m# TODO(allenl): a `make_variable` equivalent should be added as a\u001b[39;49;00m\n\u001b[0;32m    716\u001b[0m     \u001b[39m# `Trackable` method.\u001b[39;49;00m\n\u001b[0;32m    717\u001b[0m     getter\u001b[39m=\u001b[39;49mgetter,\n\u001b[0;32m    718\u001b[0m     \u001b[39m# Manage errors in Layer rather than Trackable.\u001b[39;49;00m\n\u001b[0;32m    719\u001b[0m     overwrite\u001b[39m=\u001b[39;49m\u001b[39mTrue\u001b[39;49;00m,\n\u001b[0;32m    720\u001b[0m     initializer\u001b[39m=\u001b[39;49minitializer,\n\u001b[0;32m    721\u001b[0m     dtype\u001b[39m=\u001b[39;49mdtype,\n\u001b[0;32m    722\u001b[0m     constraint\u001b[39m=\u001b[39;49mconstraint,\n\u001b[0;32m    723\u001b[0m     trainable\u001b[39m=\u001b[39;49mtrainable,\n\u001b[0;32m    724\u001b[0m     use_resource\u001b[39m=\u001b[39;49muse_resource,\n\u001b[0;32m    725\u001b[0m     collections\u001b[39m=\u001b[39;49mcollections_arg,\n\u001b[0;32m    726\u001b[0m     synchronization\u001b[39m=\u001b[39;49msynchronization,\n\u001b[0;32m    727\u001b[0m     aggregation\u001b[39m=\u001b[39;49maggregation,\n\u001b[0;32m    728\u001b[0m     caching_device\u001b[39m=\u001b[39;49mcaching_device,\n\u001b[0;32m    729\u001b[0m )\n\u001b[0;32m    730\u001b[0m \u001b[39mif\u001b[39;00m regularizer \u001b[39mis\u001b[39;00m \u001b[39mnot\u001b[39;00m \u001b[39mNone\u001b[39;00m:\n\u001b[0;32m    731\u001b[0m     \u001b[39m# TODO(fchollet): in the future, this should be handled at the\u001b[39;00m\n\u001b[0;32m    732\u001b[0m     \u001b[39m# level of variable creation, and weight regularization losses\u001b[39;00m\n\u001b[0;32m    733\u001b[0m     \u001b[39m# should be variable attributes.\u001b[39;00m\n\u001b[0;32m    734\u001b[0m     name_in_scope \u001b[39m=\u001b[39m variable\u001b[39m.\u001b[39mname[: variable\u001b[39m.\u001b[39mname\u001b[39m.\u001b[39mfind(\u001b[39m\"\u001b[39m\u001b[39m:\u001b[39m\u001b[39m\"\u001b[39m)]\n",
      "File \u001b[1;32mc:\\Users\\Ale\\anaconda3\\envs\\data_mining\\lib\\site-packages\\tensorflow\\python\\trackable\\base.py:488\u001b[0m, in \u001b[0;36mTrackable._add_variable_with_custom_getter\u001b[1;34m(self, name, shape, dtype, initializer, getter, overwrite, **kwargs_for_getter)\u001b[0m\n\u001b[0;32m    478\u001b[0m   \u001b[39mif\u001b[39;00m (checkpoint_initializer \u001b[39mis\u001b[39;00m \u001b[39mnot\u001b[39;00m \u001b[39mNone\u001b[39;00m \u001b[39mand\u001b[39;00m\n\u001b[0;32m    479\u001b[0m       \u001b[39mnot\u001b[39;00m (\u001b[39misinstance\u001b[39m(initializer, CheckpointInitialValueCallable) \u001b[39mand\u001b[39;00m\n\u001b[0;32m    480\u001b[0m            (initializer\u001b[39m.\u001b[39mrestore_uid \u001b[39m>\u001b[39m checkpoint_initializer\u001b[39m.\u001b[39mrestore_uid))):\n\u001b[1;32m   (...)\u001b[0m\n\u001b[0;32m    485\u001b[0m     \u001b[39m# then we'll catch that when we call _track_trackable. So this is\u001b[39;00m\n\u001b[0;32m    486\u001b[0m     \u001b[39m# \"best effort\" to set the initializer with the highest restore UID.\u001b[39;00m\n\u001b[0;32m    487\u001b[0m     initializer \u001b[39m=\u001b[39m checkpoint_initializer\n\u001b[1;32m--> 488\u001b[0m new_variable \u001b[39m=\u001b[39m getter(\n\u001b[0;32m    489\u001b[0m     name\u001b[39m=\u001b[39;49mname,\n\u001b[0;32m    490\u001b[0m     shape\u001b[39m=\u001b[39;49mshape,\n\u001b[0;32m    491\u001b[0m     dtype\u001b[39m=\u001b[39;49mdtype,\n\u001b[0;32m    492\u001b[0m     initializer\u001b[39m=\u001b[39;49minitializer,\n\u001b[0;32m    493\u001b[0m     \u001b[39m*\u001b[39;49m\u001b[39m*\u001b[39;49mkwargs_for_getter)\n\u001b[0;32m    495\u001b[0m \u001b[39m# If we set an initializer and the variable processed it, tracking will not\u001b[39;00m\n\u001b[0;32m    496\u001b[0m \u001b[39m# assign again. It will add this variable to our dependencies, and if there\u001b[39;00m\n\u001b[0;32m    497\u001b[0m \u001b[39m# is a non-trivial restoration queued, it will handle that. This also\u001b[39;00m\n\u001b[0;32m    498\u001b[0m \u001b[39m# handles slot variables.\u001b[39;00m\n\u001b[0;32m    499\u001b[0m \u001b[39mif\u001b[39;00m \u001b[39mnot\u001b[39;00m overwrite \u001b[39mor\u001b[39;00m \u001b[39misinstance\u001b[39m(new_variable, Trackable):\n",
      "File \u001b[1;32mc:\\Users\\Ale\\anaconda3\\envs\\data_mining\\lib\\site-packages\\keras\\src\\engine\\base_layer_utils.py:137\u001b[0m, in \u001b[0;36mmake_variable\u001b[1;34m(name, shape, dtype, initializer, trainable, caching_device, validate_shape, constraint, use_resource, collections, synchronization, aggregation, partitioner, layout, experimental_enable_variable_lifting)\u001b[0m\n\u001b[0;32m    130\u001b[0m     use_resource \u001b[39m=\u001b[39m \u001b[39mTrue\u001b[39;00m\n\u001b[0;32m    132\u001b[0m \u001b[39mif\u001b[39;00m layout \u001b[39mis\u001b[39;00m \u001b[39mNone\u001b[39;00m:\n\u001b[0;32m    133\u001b[0m     \u001b[39m# In theory, in `use_resource` is True and `collections` is empty\u001b[39;00m\n\u001b[0;32m    134\u001b[0m     \u001b[39m# (that is to say, in TF2), we can use tf.Variable.\u001b[39;00m\n\u001b[0;32m    135\u001b[0m     \u001b[39m# However, this breaks legacy (Estimator) checkpoints because\u001b[39;00m\n\u001b[0;32m    136\u001b[0m     \u001b[39m# it changes variable names. Remove this when V1 is fully deprecated.\u001b[39;00m\n\u001b[1;32m--> 137\u001b[0m     \u001b[39mreturn\u001b[39;00m tf1\u001b[39m.\u001b[39;49mVariable(\n\u001b[0;32m    138\u001b[0m         initial_value\u001b[39m=\u001b[39;49minit_val,\n\u001b[0;32m    139\u001b[0m         name\u001b[39m=\u001b[39;49mname,\n\u001b[0;32m    140\u001b[0m         trainable\u001b[39m=\u001b[39;49mtrainable,\n\u001b[0;32m    141\u001b[0m         caching_device\u001b[39m=\u001b[39;49mcaching_device,\n\u001b[0;32m    142\u001b[0m         dtype\u001b[39m=\u001b[39;49mvariable_dtype,\n\u001b[0;32m    143\u001b[0m         validate_shape\u001b[39m=\u001b[39;49mvalidate_shape,\n\u001b[0;32m    144\u001b[0m         constraint\u001b[39m=\u001b[39;49mconstraint,\n\u001b[0;32m    145\u001b[0m         use_resource\u001b[39m=\u001b[39;49muse_resource,\n\u001b[0;32m    146\u001b[0m         collections\u001b[39m=\u001b[39;49mcollections,\n\u001b[0;32m    147\u001b[0m         synchronization\u001b[39m=\u001b[39;49msynchronization,\n\u001b[0;32m    148\u001b[0m         aggregation\u001b[39m=\u001b[39;49maggregation,\n\u001b[0;32m    149\u001b[0m         shape\u001b[39m=\u001b[39;49mvariable_shape \u001b[39mif\u001b[39;49;00m variable_shape \u001b[39melse\u001b[39;49;00m \u001b[39mNone\u001b[39;49;00m,\n\u001b[0;32m    150\u001b[0m         experimental_enable_variable_lifting\u001b[39m=\u001b[39;49mexperimental_enable_variable_lifting,  \u001b[39m# noqa: E501\u001b[39;49;00m\n\u001b[0;32m    151\u001b[0m     )\n\u001b[0;32m    152\u001b[0m \u001b[39melse\u001b[39;00m:\n\u001b[0;32m    153\u001b[0m     \u001b[39mreturn\u001b[39;00m dtensor\u001b[39m.\u001b[39mDVariable(\n\u001b[0;32m    154\u001b[0m         initial_value\u001b[39m=\u001b[39minit_val,\n\u001b[0;32m    155\u001b[0m         name\u001b[39m=\u001b[39mname,\n\u001b[1;32m   (...)\u001b[0m\n\u001b[0;32m    164\u001b[0m         shape\u001b[39m=\u001b[39mvariable_shape \u001b[39mif\u001b[39;00m variable_shape \u001b[39melse\u001b[39;00m \u001b[39mNone\u001b[39;00m,\n\u001b[0;32m    165\u001b[0m     )\n",
      "File \u001b[1;32mc:\\Users\\Ale\\anaconda3\\envs\\data_mining\\lib\\site-packages\\tensorflow\\python\\util\\traceback_utils.py:150\u001b[0m, in \u001b[0;36mfilter_traceback.<locals>.error_handler\u001b[1;34m(*args, **kwargs)\u001b[0m\n\u001b[0;32m    148\u001b[0m filtered_tb \u001b[39m=\u001b[39m \u001b[39mNone\u001b[39;00m\n\u001b[0;32m    149\u001b[0m \u001b[39mtry\u001b[39;00m:\n\u001b[1;32m--> 150\u001b[0m   \u001b[39mreturn\u001b[39;00m fn(\u001b[39m*\u001b[39;49margs, \u001b[39m*\u001b[39;49m\u001b[39m*\u001b[39;49mkwargs)\n\u001b[0;32m    151\u001b[0m \u001b[39mexcept\u001b[39;00m \u001b[39mException\u001b[39;00m \u001b[39mas\u001b[39;00m e:\n\u001b[0;32m    152\u001b[0m   filtered_tb \u001b[39m=\u001b[39m _process_traceback_frames(e\u001b[39m.\u001b[39m__traceback__)\n",
      "File \u001b[1;32mc:\\Users\\Ale\\anaconda3\\envs\\data_mining\\lib\\site-packages\\tensorflow\\python\\ops\\variables.py:194\u001b[0m, in \u001b[0;36mVariableMetaclass.__call__\u001b[1;34m(cls, *args, **kwargs)\u001b[0m\n\u001b[0;32m    191\u001b[0m \u001b[39m@traceback_utils\u001b[39m\u001b[39m.\u001b[39mfilter_traceback\n\u001b[0;32m    192\u001b[0m \u001b[39mdef\u001b[39;00m \u001b[39m__call__\u001b[39m(\u001b[39mcls\u001b[39m, \u001b[39m*\u001b[39margs, \u001b[39m*\u001b[39m\u001b[39m*\u001b[39mkwargs):\n\u001b[0;32m    193\u001b[0m   \u001b[39mif\u001b[39;00m \u001b[39mhasattr\u001b[39m(\u001b[39mcls\u001b[39m, \u001b[39m\"\u001b[39m\u001b[39m_variable_call\u001b[39m\u001b[39m\"\u001b[39m) \u001b[39mand\u001b[39;00m \u001b[39mcallable\u001b[39m(\u001b[39mcls\u001b[39m\u001b[39m.\u001b[39m_variable_call):\n\u001b[1;32m--> 194\u001b[0m     variable_call \u001b[39m=\u001b[39m \u001b[39mcls\u001b[39;49m\u001b[39m.\u001b[39;49m_variable_call(\u001b[39m*\u001b[39;49margs, \u001b[39m*\u001b[39;49m\u001b[39m*\u001b[39;49mkwargs)\n\u001b[0;32m    195\u001b[0m     \u001b[39mif\u001b[39;00m variable_call \u001b[39mis\u001b[39;00m \u001b[39mnot\u001b[39;00m \u001b[39mNone\u001b[39;00m:\n\u001b[0;32m    196\u001b[0m       \u001b[39mreturn\u001b[39;00m variable_call\n",
      "File \u001b[1;32mc:\\Users\\Ale\\anaconda3\\envs\\data_mining\\lib\\site-packages\\tensorflow\\python\\ops\\variable_v1.py:305\u001b[0m, in \u001b[0;36mVariableV1._variable_call\u001b[1;34m(cls, initial_value, trainable, validate_shape, caching_device, name, variable_def, dtype, import_scope, constraint, synchronization, aggregation, shape, experimental_enable_variable_lifting, expected_shape, collections, use_resource, **kwargs)\u001b[0m\n\u001b[0;32m    303\u001b[0m \u001b[39mif\u001b[39;00m aggregation \u001b[39mis\u001b[39;00m \u001b[39mNone\u001b[39;00m:\n\u001b[0;32m    304\u001b[0m   aggregation \u001b[39m=\u001b[39m variables\u001b[39m.\u001b[39mVariableAggregation\u001b[39m.\u001b[39mNONE\n\u001b[1;32m--> 305\u001b[0m \u001b[39mreturn\u001b[39;00m previous_getter(\n\u001b[0;32m    306\u001b[0m     initial_value\u001b[39m=\u001b[39;49minitial_value,\n\u001b[0;32m    307\u001b[0m     trainable\u001b[39m=\u001b[39;49mtrainable,\n\u001b[0;32m    308\u001b[0m     validate_shape\u001b[39m=\u001b[39;49mvalidate_shape,\n\u001b[0;32m    309\u001b[0m     caching_device\u001b[39m=\u001b[39;49mcaching_device,\n\u001b[0;32m    310\u001b[0m     name\u001b[39m=\u001b[39;49mname,\n\u001b[0;32m    311\u001b[0m     variable_def\u001b[39m=\u001b[39;49mvariable_def,\n\u001b[0;32m    312\u001b[0m     dtype\u001b[39m=\u001b[39;49mdtype,\n\u001b[0;32m    313\u001b[0m     import_scope\u001b[39m=\u001b[39;49mimport_scope,\n\u001b[0;32m    314\u001b[0m     constraint\u001b[39m=\u001b[39;49mconstraint,\n\u001b[0;32m    315\u001b[0m     synchronization\u001b[39m=\u001b[39;49msynchronization,\n\u001b[0;32m    316\u001b[0m     aggregation\u001b[39m=\u001b[39;49maggregation,\n\u001b[0;32m    317\u001b[0m     shape\u001b[39m=\u001b[39;49mshape,\n\u001b[0;32m    318\u001b[0m     experimental_enable_variable_lifting\u001b[39m=\u001b[39;49mexperimental_enable_variable_lifting,\n\u001b[0;32m    319\u001b[0m     expected_shape\u001b[39m=\u001b[39;49mexpected_shape,\n\u001b[0;32m    320\u001b[0m     collections\u001b[39m=\u001b[39;49mcollections,\n\u001b[0;32m    321\u001b[0m     use_resource\u001b[39m=\u001b[39;49muse_resource,\n\u001b[0;32m    322\u001b[0m )\n",
      "File \u001b[1;32mc:\\Users\\Ale\\anaconda3\\envs\\data_mining\\lib\\site-packages\\tensorflow\\python\\ops\\variable_v1.py:298\u001b[0m, in \u001b[0;36mVariableV1._variable_call.<locals>.<lambda>\u001b[1;34m(**kwargs)\u001b[0m\n\u001b[0;32m    296\u001b[0m \u001b[39mif\u001b[39;00m \u001b[39mcls\u001b[39m \u001b[39mis\u001b[39;00m \u001b[39mnot\u001b[39;00m VariableV1:\n\u001b[0;32m    297\u001b[0m   \u001b[39mreturn\u001b[39;00m \u001b[39mNone\u001b[39;00m\n\u001b[1;32m--> 298\u001b[0m previous_getter \u001b[39m=\u001b[39m \u001b[39mlambda\u001b[39;00m \u001b[39m*\u001b[39m\u001b[39m*\u001b[39mkwargs: default_variable_creator(\u001b[39mNone\u001b[39;49;00m, \u001b[39m*\u001b[39;49m\u001b[39m*\u001b[39;49mkwargs)\n\u001b[0;32m    299\u001b[0m \u001b[39mfor\u001b[39;00m _, getter \u001b[39min\u001b[39;00m ops\u001b[39m.\u001b[39mget_default_graph()\u001b[39m.\u001b[39m_variable_creator_stack:  \u001b[39m# pylint: disable=protected-access\u001b[39;00m\n\u001b[0;32m    300\u001b[0m   previous_getter \u001b[39m=\u001b[39m variables\u001b[39m.\u001b[39m_make_getter(getter, previous_getter)  \u001b[39m# pylint: disable=protected-access\u001b[39;00m\n",
      "File \u001b[1;32mc:\\Users\\Ale\\anaconda3\\envs\\data_mining\\lib\\site-packages\\tensorflow\\python\\ops\\ref_variable.py:70\u001b[0m, in \u001b[0;36mdefault_variable_creator\u001b[1;34m(next_creator, **kwargs)\u001b[0m\n\u001b[0;32m     68\u001b[0m \u001b[39mif\u001b[39;00m use_resource:\n\u001b[0;32m     69\u001b[0m   distribute_strategy \u001b[39m=\u001b[39m kwargs\u001b[39m.\u001b[39mget(\u001b[39m\"\u001b[39m\u001b[39mdistribute_strategy\u001b[39m\u001b[39m\"\u001b[39m, \u001b[39mNone\u001b[39;00m)\n\u001b[1;32m---> 70\u001b[0m   \u001b[39mreturn\u001b[39;00m resource_variable_ops\u001b[39m.\u001b[39;49mResourceVariable(\n\u001b[0;32m     71\u001b[0m       initial_value\u001b[39m=\u001b[39;49minitial_value,\n\u001b[0;32m     72\u001b[0m       trainable\u001b[39m=\u001b[39;49mtrainable,\n\u001b[0;32m     73\u001b[0m       collections\u001b[39m=\u001b[39;49mcollections,\n\u001b[0;32m     74\u001b[0m       validate_shape\u001b[39m=\u001b[39;49mvalidate_shape,\n\u001b[0;32m     75\u001b[0m       caching_device\u001b[39m=\u001b[39;49mcaching_device,\n\u001b[0;32m     76\u001b[0m       name\u001b[39m=\u001b[39;49mname,\n\u001b[0;32m     77\u001b[0m       dtype\u001b[39m=\u001b[39;49mdtype,\n\u001b[0;32m     78\u001b[0m       constraint\u001b[39m=\u001b[39;49mconstraint,\n\u001b[0;32m     79\u001b[0m       variable_def\u001b[39m=\u001b[39;49mvariable_def,\n\u001b[0;32m     80\u001b[0m       import_scope\u001b[39m=\u001b[39;49mimport_scope,\n\u001b[0;32m     81\u001b[0m       distribute_strategy\u001b[39m=\u001b[39;49mdistribute_strategy,\n\u001b[0;32m     82\u001b[0m       synchronization\u001b[39m=\u001b[39;49msynchronization,\n\u001b[0;32m     83\u001b[0m       aggregation\u001b[39m=\u001b[39;49maggregation,\n\u001b[0;32m     84\u001b[0m       shape\u001b[39m=\u001b[39;49mshape)\n\u001b[0;32m     85\u001b[0m \u001b[39melse\u001b[39;00m:\n\u001b[0;32m     86\u001b[0m   \u001b[39mreturn\u001b[39;00m RefVariable(\n\u001b[0;32m     87\u001b[0m       initial_value\u001b[39m=\u001b[39minitial_value,\n\u001b[0;32m     88\u001b[0m       trainable\u001b[39m=\u001b[39mtrainable,\n\u001b[1;32m   (...)\u001b[0m\n\u001b[0;32m     99\u001b[0m       aggregation\u001b[39m=\u001b[39maggregation,\n\u001b[0;32m    100\u001b[0m       shape\u001b[39m=\u001b[39mshape)\n",
      "File \u001b[1;32mc:\\Users\\Ale\\anaconda3\\envs\\data_mining\\lib\\site-packages\\tensorflow\\python\\util\\traceback_utils.py:150\u001b[0m, in \u001b[0;36mfilter_traceback.<locals>.error_handler\u001b[1;34m(*args, **kwargs)\u001b[0m\n\u001b[0;32m    148\u001b[0m filtered_tb \u001b[39m=\u001b[39m \u001b[39mNone\u001b[39;00m\n\u001b[0;32m    149\u001b[0m \u001b[39mtry\u001b[39;00m:\n\u001b[1;32m--> 150\u001b[0m   \u001b[39mreturn\u001b[39;00m fn(\u001b[39m*\u001b[39;49margs, \u001b[39m*\u001b[39;49m\u001b[39m*\u001b[39;49mkwargs)\n\u001b[0;32m    151\u001b[0m \u001b[39mexcept\u001b[39;00m \u001b[39mException\u001b[39;00m \u001b[39mas\u001b[39;00m e:\n\u001b[0;32m    152\u001b[0m   filtered_tb \u001b[39m=\u001b[39m _process_traceback_frames(e\u001b[39m.\u001b[39m__traceback__)\n",
      "File \u001b[1;32mc:\\Users\\Ale\\anaconda3\\envs\\data_mining\\lib\\site-packages\\tensorflow\\python\\ops\\variables.py:197\u001b[0m, in \u001b[0;36mVariableMetaclass.__call__\u001b[1;34m(cls, *args, **kwargs)\u001b[0m\n\u001b[0;32m    195\u001b[0m   \u001b[39mif\u001b[39;00m variable_call \u001b[39mis\u001b[39;00m \u001b[39mnot\u001b[39;00m \u001b[39mNone\u001b[39;00m:\n\u001b[0;32m    196\u001b[0m     \u001b[39mreturn\u001b[39;00m variable_call\n\u001b[1;32m--> 197\u001b[0m \u001b[39mreturn\u001b[39;00m \u001b[39msuper\u001b[39;49m(VariableMetaclass, \u001b[39mcls\u001b[39;49m)\u001b[39m.\u001b[39;49m\u001b[39m__call__\u001b[39;49m(\u001b[39m*\u001b[39;49margs, \u001b[39m*\u001b[39;49m\u001b[39m*\u001b[39;49mkwargs)\n",
      "File \u001b[1;32mc:\\Users\\Ale\\anaconda3\\envs\\data_mining\\lib\\site-packages\\tensorflow\\python\\ops\\resource_variable_ops.py:1810\u001b[0m, in \u001b[0;36mResourceVariable.__init__\u001b[1;34m(self, initial_value, trainable, collections, validate_shape, caching_device, name, dtype, variable_def, import_scope, constraint, distribute_strategy, synchronization, aggregation, shape, handle, experimental_enable_variable_lifting)\u001b[0m\n\u001b[0;32m   1805\u001b[0m   \u001b[39mself\u001b[39m\u001b[39m.\u001b[39m_init_from_handle(trainable\u001b[39m=\u001b[39mtrainable,\n\u001b[0;32m   1806\u001b[0m                          shape\u001b[39m=\u001b[39mshape,\n\u001b[0;32m   1807\u001b[0m                          dtype\u001b[39m=\u001b[39mdtype,\n\u001b[0;32m   1808\u001b[0m                          handle\u001b[39m=\u001b[39mhandle)\n\u001b[0;32m   1809\u001b[0m \u001b[39melse\u001b[39;00m:\n\u001b[1;32m-> 1810\u001b[0m   \u001b[39mself\u001b[39;49m\u001b[39m.\u001b[39;49m_init_from_args(\n\u001b[0;32m   1811\u001b[0m       initial_value\u001b[39m=\u001b[39;49minitial_value,\n\u001b[0;32m   1812\u001b[0m       trainable\u001b[39m=\u001b[39;49mtrainable,\n\u001b[0;32m   1813\u001b[0m       collections\u001b[39m=\u001b[39;49mcollections,\n\u001b[0;32m   1814\u001b[0m       caching_device\u001b[39m=\u001b[39;49mcaching_device,\n\u001b[0;32m   1815\u001b[0m       name\u001b[39m=\u001b[39;49mname,\n\u001b[0;32m   1816\u001b[0m       dtype\u001b[39m=\u001b[39;49mdtype,\n\u001b[0;32m   1817\u001b[0m       constraint\u001b[39m=\u001b[39;49mconstraint,\n\u001b[0;32m   1818\u001b[0m       synchronization\u001b[39m=\u001b[39;49msynchronization,\n\u001b[0;32m   1819\u001b[0m       aggregation\u001b[39m=\u001b[39;49maggregation,\n\u001b[0;32m   1820\u001b[0m       shape\u001b[39m=\u001b[39;49mshape,\n\u001b[0;32m   1821\u001b[0m       distribute_strategy\u001b[39m=\u001b[39;49mdistribute_strategy,\n\u001b[0;32m   1822\u001b[0m       validate_shape\u001b[39m=\u001b[39;49mvalidate_shape,\n\u001b[0;32m   1823\u001b[0m       experimental_enable_variable_lifting\u001b[39m=\u001b[39;49mexperimental_enable_variable_lifting,\n\u001b[0;32m   1824\u001b[0m       )\n",
      "File \u001b[1;32mc:\\Users\\Ale\\anaconda3\\envs\\data_mining\\lib\\site-packages\\tensorflow\\python\\ops\\resource_variable_ops.py:2009\u001b[0m, in \u001b[0;36mResourceVariable._init_from_args\u001b[1;34m(self, initial_value, trainable, collections, caching_device, name, dtype, constraint, synchronization, aggregation, distribute_strategy, shape, validate_shape, experimental_enable_variable_lifting)\u001b[0m\n\u001b[0;32m   2007\u001b[0m \u001b[39melse\u001b[39;00m:\n\u001b[0;32m   2008\u001b[0m   shape \u001b[39m=\u001b[39m initial_value\u001b[39m.\u001b[39mshape\n\u001b[1;32m-> 2009\u001b[0m handle \u001b[39m=\u001b[39m eager_safe_variable_handle(\n\u001b[0;32m   2010\u001b[0m     initial_value\u001b[39m=\u001b[39;49minitial_value,\n\u001b[0;32m   2011\u001b[0m     shape\u001b[39m=\u001b[39;49mshape,\n\u001b[0;32m   2012\u001b[0m     shared_name\u001b[39m=\u001b[39;49mshared_name,\n\u001b[0;32m   2013\u001b[0m     name\u001b[39m=\u001b[39;49mname,\n\u001b[0;32m   2014\u001b[0m     graph_mode\u001b[39m=\u001b[39;49m\u001b[39mself\u001b[39;49m\u001b[39m.\u001b[39;49m_in_graph_mode)\n\u001b[0;32m   2015\u001b[0m handle\u001b[39m.\u001b[39m_parent_trackable \u001b[39m=\u001b[39m weakref\u001b[39m.\u001b[39mref(\u001b[39mself\u001b[39m)\n\u001b[0;32m   2016\u001b[0m handle\u001b[39m.\u001b[39m_name \u001b[39m=\u001b[39m handle_name \u001b[39m+\u001b[39m \u001b[39m\"\u001b[39m\u001b[39m:0\u001b[39m\u001b[39m\"\u001b[39m\n",
      "File \u001b[1;32mc:\\Users\\Ale\\anaconda3\\envs\\data_mining\\lib\\site-packages\\tensorflow\\python\\ops\\resource_variable_ops.py:242\u001b[0m, in \u001b[0;36meager_safe_variable_handle\u001b[1;34m(initial_value, shape, shared_name, name, graph_mode)\u001b[0m\n\u001b[0;32m    200\u001b[0m \u001b[39m\u001b[39m\u001b[39m\"\"\"Creates a variable handle with information to do shape inference.\u001b[39;00m\n\u001b[0;32m    201\u001b[0m \n\u001b[0;32m    202\u001b[0m \u001b[39mThe dtype is read from `initial_value` and stored in the returned\u001b[39;00m\n\u001b[1;32m   (...)\u001b[0m\n\u001b[0;32m    239\u001b[0m \u001b[39m  The handle, a `Tensor` of type `resource`.\u001b[39;00m\n\u001b[0;32m    240\u001b[0m \u001b[39m\"\"\"\u001b[39;00m\n\u001b[0;32m    241\u001b[0m dtype \u001b[39m=\u001b[39m initial_value\u001b[39m.\u001b[39mdtype\u001b[39m.\u001b[39mbase_dtype\n\u001b[1;32m--> 242\u001b[0m \u001b[39mreturn\u001b[39;00m _variable_handle_from_shape_and_dtype(shape, dtype, shared_name, name,\n\u001b[0;32m    243\u001b[0m                                              graph_mode, initial_value)\n",
      "File \u001b[1;32mc:\\Users\\Ale\\anaconda3\\envs\\data_mining\\lib\\site-packages\\tensorflow\\python\\ops\\resource_variable_ops.py:171\u001b[0m, in \u001b[0;36m_variable_handle_from_shape_and_dtype\u001b[1;34m(shape, dtype, shared_name, name, graph_mode, initial_value)\u001b[0m\n\u001b[0;32m    164\u001b[0m     \u001b[39mraise\u001b[39;00m errors\u001b[39m.\u001b[39mInternalError(\n\u001b[0;32m    165\u001b[0m         node_def\u001b[39m=\u001b[39m\u001b[39mNone\u001b[39;00m,\n\u001b[0;32m    166\u001b[0m         op\u001b[39m=\u001b[39m\u001b[39mNone\u001b[39;00m,\n\u001b[0;32m    167\u001b[0m         message\u001b[39m=\u001b[39m\u001b[39m\"\u001b[39m\u001b[39mUsing an explicit shared_name is \u001b[39m\u001b[39m\"\u001b[39m\n\u001b[0;32m    168\u001b[0m         \u001b[39m\"\u001b[39m\u001b[39mnot allowed when executing eagerly.\u001b[39m\u001b[39m\"\u001b[39m)\n\u001b[0;32m    169\u001b[0m   shared_name \u001b[39m=\u001b[39m context\u001b[39m.\u001b[39manonymous_name()\n\u001b[1;32m--> 171\u001b[0m handle \u001b[39m=\u001b[39m gen_resource_variable_ops\u001b[39m.\u001b[39;49mvar_handle_op(\n\u001b[0;32m    172\u001b[0m     shape\u001b[39m=\u001b[39;49mshape,\n\u001b[0;32m    173\u001b[0m     dtype\u001b[39m=\u001b[39;49mdtype,\n\u001b[0;32m    174\u001b[0m     shared_name\u001b[39m=\u001b[39;49mshared_name,\n\u001b[0;32m    175\u001b[0m     name\u001b[39m=\u001b[39;49mname,\n\u001b[0;32m    176\u001b[0m     container\u001b[39m=\u001b[39;49mcontainer)\n\u001b[0;32m    177\u001b[0m \u001b[39mif\u001b[39;00m initial_value \u001b[39mis\u001b[39;00m \u001b[39mNone\u001b[39;00m:\n\u001b[0;32m    178\u001b[0m   initial_value \u001b[39m=\u001b[39m handle\n",
      "File \u001b[1;32mc:\\Users\\Ale\\anaconda3\\envs\\data_mining\\lib\\site-packages\\tensorflow\\python\\ops\\gen_resource_variable_ops.py:1422\u001b[0m, in \u001b[0;36mvar_handle_op\u001b[1;34m(dtype, shape, container, shared_name, allowed_devices, name)\u001b[0m\n\u001b[0;32m   1420\u001b[0m \u001b[39mif\u001b[39;00m tld\u001b[39m.\u001b[39mis_eager:\n\u001b[0;32m   1421\u001b[0m   \u001b[39mtry\u001b[39;00m:\n\u001b[1;32m-> 1422\u001b[0m     _result \u001b[39m=\u001b[39m pywrap_tfe\u001b[39m.\u001b[39;49mTFE_Py_FastPathExecute(\n\u001b[0;32m   1423\u001b[0m       _ctx, \u001b[39m\"\u001b[39;49m\u001b[39mVarHandleOp\u001b[39;49m\u001b[39m\"\u001b[39;49m, name, \u001b[39m\"\u001b[39;49m\u001b[39mcontainer\u001b[39;49m\u001b[39m\"\u001b[39;49m, container, \u001b[39m\"\u001b[39;49m\u001b[39mshared_name\u001b[39;49m\u001b[39m\"\u001b[39;49m,\n\u001b[0;32m   1424\u001b[0m       shared_name, \u001b[39m\"\u001b[39;49m\u001b[39mdtype\u001b[39;49m\u001b[39m\"\u001b[39;49m, dtype, \u001b[39m\"\u001b[39;49m\u001b[39mshape\u001b[39;49m\u001b[39m\"\u001b[39;49m, shape, \u001b[39m\"\u001b[39;49m\u001b[39mallowed_devices\u001b[39;49m\u001b[39m\"\u001b[39;49m,\n\u001b[0;32m   1425\u001b[0m       allowed_devices)\n\u001b[0;32m   1426\u001b[0m     \u001b[39mreturn\u001b[39;00m _result\n\u001b[0;32m   1427\u001b[0m   \u001b[39mexcept\u001b[39;00m _core\u001b[39m.\u001b[39m_NotOkStatusException \u001b[39mas\u001b[39;00m e:\n",
      "\u001b[1;31mKeyboardInterrupt\u001b[0m: "
     ]
    }
   ],
   "source": [
    "#Creacion dinamica de folds y clasificacion y metricas\n",
    "stratified_kfold = StratifiedKFold(n_splits=10, shuffle=True, random_state=42)\n",
    "counter=1\n",
    "epochs = [1,50,100,150,200,250,300,350,400,450,500]\n",
    "\n",
    "#Neural Network\n",
    "for X in reduced_array:\n",
    "    print(\"Set: \",counter)\n",
    "    array_accuracy= []\n",
    "    array_precision= []\n",
    "    array_recall= []\n",
    "    array_auc = []\n",
    "\n",
    "    for fold,(train_index,val_index) in enumerate(stratified_kfold.split(X,y)):\n",
    "\n",
    "        for epoch in epochs:\n",
    "            X_train,X_val=X[train_index],X[val_index]\n",
    "            y_train,y_val=y[train_index],y[val_index]\n",
    "\n",
    "            tf.keras.backend.clear_session() # Clear session before building the model\n",
    "\n",
    "            model = tf.keras.models.Sequential([\n",
    "                tf.keras.layers.Dense(len(X), activation='relu', input_shape=(X_train.shape[1],)),\n",
    "                tf.keras.layers.Dense(6, activation='relu'),\n",
    "                tf.keras.layers.Dense(6, activation='relu'),\n",
    "                tf.keras.layers.Dense(1, activation='softmax')\n",
    "            ])\n",
    "\n",
    "            optimizer = tf.keras.optimizers.Adam(learning_rate=0.1)\n",
    "            model.compile(optimizer=optimizer,\n",
    "                        loss='binary_crossentropy',\n",
    "                        metrics=['accuracy'],\n",
    "                        )  \n",
    "            \n",
    "            model.fit(X_train, y_train, epochs=epoch, batch_size=32, validation_data=(X_val, y_val))\n"
   ]
  },
  {
   "cell_type": "code",
   "execution_count": null,
   "metadata": {},
   "outputs": [],
   "source": [
    "#Neural Network\n",
    "for X in reduced_array:\n",
    "    print(\"Set: \",counter)\n",
    "    array_accuracy= []\n",
    "    array_precision= []\n",
    "    array_recall= []\n",
    "    array_auc = []\n",
    "\n",
    "    for fold,(train_index,val_index) in enumerate(stratified_kfold.split(X,y)):\n",
    "\n",
    "        for epoch in epochs:\n",
    "            X_train,X_val=X[train_index],X[val_index]\n",
    "            y_train,y_val=y[train_index],y[val_index]\n",
    "\n",
    "            tf.keras.backend.clear_session() # Clear session before building the model\n",
    "\n",
    "            model = tf.keras.models.Sequential([\n",
    "                tf.keras.layers.Dense(6, activation='relu', input_shape=(X_train.shape[1],)),\n",
    "                tf.keras.layers.Dense(6, activation='relu'),\n",
    "                tf.keras.layers.Dense(6, activation='relu'),\n",
    "                tf.keras.layers.Dense(1, activation='softmax')\n",
    "            ])\n",
    "\n",
    "            optimizer = tf.keras.optimizers.Adam(learning_rate=0.3)\n",
    "            model.compile(optimizer=optimizer,\n",
    "                        loss='binary_crossentropy',\n",
    "                        metrics=['accuracy'],\n",
    "                        )  \n",
    "            \n",
    "            model.fit(X_train, y_train, epochs=epoch, batch_size=32, validation_data=(X_val, y_val))"
   ]
  },
  {
   "cell_type": "code",
   "execution_count": null,
   "metadata": {},
   "outputs": [],
   "source": [
    "#Neural Network\n",
    "for X in reduced_array:\n",
    "    print(\"Set: \",counter)\n",
    "    array_accuracy= []\n",
    "    array_precision= []\n",
    "    array_recall= []\n",
    "    array_auc = []\n",
    "\n",
    "    for fold,(train_index,val_index) in enumerate(stratified_kfold.split(X,y)):\n",
    "\n",
    "        for epoch in epochs:\n",
    "            X_train,X_val=X[train_index],X[val_index]\n",
    "            y_train,y_val=y[train_index],y[val_index]\n",
    "\n",
    "            tf.keras.backend.clear_session() # Clear session before building the model\n",
    "\n",
    "            model = tf.keras.models.Sequential([\n",
    "                tf.keras.layers.Dense(6, activation='relu', input_shape=(X_train.shape[1],)),\n",
    "                tf.keras.layers.Dense(6, activation='relu'),\n",
    "                tf.keras.layers.Dense(6, activation='relu'),\n",
    "                tf.keras.layers.Dense(1, activation='softmax')\n",
    "            ])\n",
    "\n",
    "            optimizer = tf.keras.optimizers.Adam(learning_rate=0.5)\n",
    "            model.compile(optimizer=optimizer,\n",
    "                        loss='binary_crossentropy',\n",
    "                        metrics=['accuracy'],\n",
    "                        )  \n",
    "            \n",
    "            model.fit(X_train, y_train, epochs=epoch, batch_size=32, validation_data=(X_val, y_val))"
   ]
  },
  {
   "cell_type": "markdown",
   "metadata": {},
   "source": [
    "## Model 2"
   ]
  },
  {
   "cell_type": "code",
   "execution_count": null,
   "metadata": {},
   "outputs": [],
   "source": [
    "#Neural Network\n",
    "for X in reduced_array:\n",
    "    print(\"Set: \",counter)\n",
    "    array_accuracy= []\n",
    "    array_precision= []\n",
    "    array_recall= []\n",
    "    array_auc = []\n",
    "\n",
    "    for fold,(train_index,val_index) in enumerate(stratified_kfold.split(X,y)):\n",
    "\n",
    "        for epoch in epochs:\n",
    "            X_train,X_val=X[train_index],X[val_index]\n",
    "            y_train,y_val=y[train_index],y[val_index]\n",
    "\n",
    "            tf.keras.backend.clear_session() # Clear session before building the model\n",
    "\n",
    "            model = tf.keras.models.Sequential([\n",
    "                tf.keras.layers.Dense(8, activation='relu', input_shape=(X_train.shape[1],)),\n",
    "                tf.keras.layers.Dense(8, activation='relu'),\n",
    "                tf.keras.layers.Dense(8, activation='relu'),\n",
    "                tf.keras.layers.Dense(1, activation='softmax')\n",
    "            ])\n",
    "\n",
    "            optimizer = tf.keras.optimizers.Adam(learning_rate=0.1)\n",
    "            model.compile(optimizer=optimizer,\n",
    "                        loss='binary_crossentropy',\n",
    "                        metrics=['accuracy'],\n",
    "                        )  \n",
    "            \n",
    "            model.fit(X_train, y_train, epochs=epoch, batch_size=32, validation_data=(X_val, y_val))"
   ]
  },
  {
   "cell_type": "code",
   "execution_count": null,
   "metadata": {},
   "outputs": [],
   "source": [
    "#Neural Network\n",
    "for X in reduced_array:\n",
    "    print(\"Set: \",counter)\n",
    "    array_accuracy= []\n",
    "    array_precision= []\n",
    "    array_recall= []\n",
    "    array_auc = []\n",
    "\n",
    "    for fold,(train_index,val_index) in enumerate(stratified_kfold.split(X,y)):\n",
    "\n",
    "        for epoch in epochs:\n",
    "            X_train,X_val=X[train_index],X[val_index]\n",
    "            y_train,y_val=y[train_index],y[val_index]\n",
    "\n",
    "            tf.keras.backend.clear_session() # Clear session before building the model\n",
    "\n",
    "            model = tf.keras.models.Sequential([\n",
    "                tf.keras.layers.Dense(8, activation='relu', input_shape=(X_train.shape[1],)),\n",
    "                tf.keras.layers.Dense(8, activation='relu'),\n",
    "                tf.keras.layers.Dense(8, activation='relu'),\n",
    "                tf.keras.layers.Dense(1, activation='softmax')\n",
    "            ])\n",
    "\n",
    "            optimizer = tf.keras.optimizers.Adam(learning_rate=0.3)\n",
    "            model.compile(optimizer=optimizer,\n",
    "                        loss='binary_crossentropy',\n",
    "                        metrics=['accuracy'],\n",
    "                        )  \n",
    "            \n",
    "            model.fit(X_train, y_train, epochs=epoch, batch_size=32, validation_data=(X_val, y_val))"
   ]
  },
  {
   "cell_type": "code",
   "execution_count": null,
   "metadata": {},
   "outputs": [],
   "source": [
    "#Neural Network\n",
    "for X in reduced_array:\n",
    "    print(\"Set: \",counter)\n",
    "    array_accuracy= []\n",
    "    array_precision= []\n",
    "    array_recall= []\n",
    "    array_auc = []\n",
    "\n",
    "    for fold,(train_index,val_index) in enumerate(stratified_kfold.split(X,y)):\n",
    "\n",
    "        for epoch in epochs:\n",
    "            X_train,X_val=X[train_index],X[val_index]\n",
    "            y_train,y_val=y[train_index],y[val_index]\n",
    "\n",
    "            tf.keras.backend.clear_session() # Clear session before building the model\n",
    "\n",
    "            model = tf.keras.models.Sequential([\n",
    "                tf.keras.layers.Dense(8, activation='relu', input_shape=(X_train.shape[1],)),\n",
    "                tf.keras.layers.Dense(8, activation='relu'),\n",
    "                tf.keras.layers.Dense(8, activation='relu'),\n",
    "                tf.keras.layers.Dense(1, activation='softmax')\n",
    "            ])\n",
    "\n",
    "            optimizer = tf.keras.optimizers.Adam(learning_rate=0.5)\n",
    "            model.compile(optimizer=optimizer,\n",
    "                        loss='binary_crossentropy',\n",
    "                        metrics=['accuracy'],\n",
    "                        )  \n",
    "            \n",
    "            model.fit(X_train, y_train, epochs=epoch, batch_size=32, validation_data=(X_val, y_val))"
   ]
  },
  {
   "cell_type": "markdown",
   "metadata": {},
   "source": [
    "## Model 3"
   ]
  },
  {
   "cell_type": "code",
   "execution_count": null,
   "metadata": {},
   "outputs": [],
   "source": []
  }
 ],
 "metadata": {
  "kernelspec": {
   "display_name": "Python 3",
   "language": "python",
   "name": "python3"
  },
  "language_info": {
   "codemirror_mode": {
    "name": "ipython",
    "version": 3
   },
   "file_extension": ".py",
   "mimetype": "text/x-python",
   "name": "python",
   "nbconvert_exporter": "python",
   "pygments_lexer": "ipython3",
   "version": "3.9.13"
  }
 },
 "nbformat": 4,
 "nbformat_minor": 2
}
