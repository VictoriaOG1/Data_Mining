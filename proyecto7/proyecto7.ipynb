{
 "cells": [
  {
   "cell_type": "code",
   "execution_count": 47,
   "metadata": {},
   "outputs": [],
   "source": [
    "import pandas as pd\n",
    "import tensorflow as tf\n",
    "from scikeras.wrappers import KerasClassifier \n",
    "from sklearn.model_selection import GridSearchCV\n",
    "from sklearn.model_selection import StratifiedKFold\n",
    "from sklearn.preprocessing import MinMaxScaler\n",
    "from sklearn.metrics import accuracy_score, precision_score, recall_score, roc_auc_score, confusion_matrix, roc_curve, precision_recall_curve, auc\n",
    "import numpy as np\n",
    "import matplotlib.pyplot as plt"
   ]
  },
  {
   "cell_type": "code",
   "execution_count": 48,
   "metadata": {},
   "outputs": [
    {
     "name": "stdout",
     "output_type": "stream",
     "text": [
      "       0      1      2      3      4      5      6      7      8      9  ...  \\\n",
      "0 -0.536  0.292 -0.684  0.123 -0.118  0.346 -0.308 -0.113  0.401 -0.399  ...   \n",
      "1 -0.496 -0.298 -0.529  0.073 -0.072  0.107 -0.316 -0.066 -0.168 -0.099  ...   \n",
      "2  0.008 -0.031 -0.240  0.178 -0.120  0.317 -0.481  0.031 -0.077  0.063  ...   \n",
      "3 -0.188 -0.180 -0.062 -0.104 -0.136 -0.061 -0.216 -0.143  0.068 -0.189  ...   \n",
      "4  0.038  0.155 -0.203 -0.088 -0.084 -0.164 -0.145 -0.168  0.008  0.143  ...   \n",
      "\n",
      "      61     62     63     64     65     66     67     68     69  label  \n",
      "0 -0.135 -0.063 -0.410 -0.223 -0.599 -0.136 -0.329 -0.132 -0.266      0  \n",
      "1  0.189  0.007 -0.362 -0.151 -0.338 -0.031 -0.159 -0.097 -0.131      0  \n",
      "2 -0.035  0.101 -0.098 -0.172 -0.290  0.033 -0.342 -0.321 -0.238      0  \n",
      "3  0.146 -0.145 -0.527 -0.292 -0.663 -0.078 -0.194 -0.151 -0.268      0  \n",
      "4  0.019 -0.084  0.164 -0.165 -0.126 -0.112  0.029 -0.138  0.148      1  \n",
      "\n",
      "[5 rows x 71 columns]\n"
     ]
    }
   ],
   "source": [
    "#Read initial data\n",
    "file_path='rtfDataSet.csv'\n",
    "df = pd.read_csv(file_path)\n",
    "print(df.head())"
   ]
  },
  {
   "cell_type": "code",
   "execution_count": 49,
   "metadata": {},
   "outputs": [],
   "source": [
    "#Reduce to sets and normalized\n",
    "set_1=[1, 5, 10, 13, 14, 16, 17, 19, 25, 26, 29, 30, 36, 46, 51, 57]\n",
    "set_2=[2, 5, 9, 10, 16, 21, 28, 34, 38, 48, 49, 55, 61, 62, 64]\n",
    "set_3=[1, 2, 7, 8, 9, 10, 19, 23, 28, 34, 35, 36, 42, 44, 45, 47, 48, 49, 53, 55, 56, 57, 58, 63, 64, 65, 67]\n",
    "set_4=[2, 3, 12, 16, 21, 23, 28, 34, 35, 45, 48, 50, 53, 61]\n",
    "set_5=[2, 10, 11, 12, 14, 22, 36, 41, 46, 50, 55, 56, 57, 58, 65]\n",
    "\n",
    "reduced_df_1=df.iloc[:,set_1]\n",
    "reduced_df_2=df.iloc[:,set_2]\n",
    "reduced_df_3=df.iloc[:,set_3]\n",
    "reduced_df_4=df.iloc[:,set_4]\n",
    "reduced_df_5=df.iloc[:,set_5]\n",
    "y = df.iloc[:, -1]\n",
    "\n",
    "scaler = MinMaxScaler()\n",
    "reduced_df_1 = scaler.fit_transform(reduced_df_1)\n",
    "reduced_df_2 = scaler.fit_transform(reduced_df_2)\n",
    "reduced_df_3 = scaler.fit_transform(reduced_df_3)\n",
    "reduced_df_4 = scaler.fit_transform(reduced_df_4)\n",
    "reduced_df_5 = scaler.fit_transform(reduced_df_5)\n",
    "\n",
    "#Array of sets\n",
    "reduced_array=[reduced_df_1,reduced_df_2,reduced_df_3,reduced_df_4,reduced_df_5]"
   ]
  },
  {
   "cell_type": "code",
   "execution_count": 50,
   "metadata": {},
   "outputs": [
    {
     "name": "stdout",
     "output_type": "stream",
     "text": [
      "Set:  1\n",
      "Epoch 1/10\n"
     ]
    },
    {
     "name": "stderr",
     "output_type": "stream",
     "text": [
      "2023-10-31 20:59:10.607765: E tensorflow/compiler/xla/stream_executor/cuda/cuda_dnn.cc:435] Loaded runtime CuDNN library: 8.5.0 but source was compiled with: 8.6.0.  CuDNN library needs to have matching major version and equal or higher minor version. If using a binary install, upgrade your CuDNN library.  If building from sources, make sure the library loaded at runtime is compatible with the version specified during compile configuration.\n",
      "2023-10-31 20:59:10.609238: W tensorflow/core/framework/op_kernel.cc:1839] OP_REQUIRES failed at xla_ops.cc:624 : FAILED_PRECONDITION: DNN library initialization failed. Look at the errors above for more details.\n",
      "2023-10-31 20:59:10.616687: E tensorflow/compiler/xla/stream_executor/cuda/cuda_dnn.cc:435] Loaded runtime CuDNN library: 8.5.0 but source was compiled with: 8.6.0.  CuDNN library needs to have matching major version and equal or higher minor version. If using a binary install, upgrade your CuDNN library.  If building from sources, make sure the library loaded at runtime is compatible with the version specified during compile configuration.\n",
      "2023-10-31 20:59:10.618055: W tensorflow/core/framework/op_kernel.cc:1839] OP_REQUIRES failed at xla_ops.cc:624 : FAILED_PRECONDITION: DNN library initialization failed. Look at the errors above for more details.\n",
      "2023-10-31 20:59:10.624934: E tensorflow/compiler/xla/stream_executor/cuda/cuda_dnn.cc:435] Loaded runtime CuDNN library: 8.5.0 but source was compiled with: 8.6.0.  CuDNN library needs to have matching major version and equal or higher minor version. If using a binary install, upgrade your CuDNN library.  If building from sources, make sure the library loaded at runtime is compatible with the version specified during compile configuration.\n",
      "2023-10-31 20:59:10.626612: W tensorflow/core/framework/op_kernel.cc:1839] OP_REQUIRES failed at xla_ops.cc:624 : FAILED_PRECONDITION: DNN library initialization failed. Look at the errors above for more details.\n",
      "2023-10-31 20:59:10.633847: E tensorflow/compiler/xla/stream_executor/cuda/cuda_dnn.cc:435] Loaded runtime CuDNN library: 8.5.0 but source was compiled with: 8.6.0.  CuDNN library needs to have matching major version and equal or higher minor version. If using a binary install, upgrade your CuDNN library.  If building from sources, make sure the library loaded at runtime is compatible with the version specified during compile configuration.\n",
      "2023-10-31 20:59:10.635097: W tensorflow/core/framework/op_kernel.cc:1839] OP_REQUIRES failed at xla_ops.cc:624 : FAILED_PRECONDITION: DNN library initialization failed. Look at the errors above for more details.\n",
      "2023-10-31 20:59:10.642065: E tensorflow/compiler/xla/stream_executor/cuda/cuda_dnn.cc:435] Loaded runtime CuDNN library: 8.5.0 but source was compiled with: 8.6.0.  CuDNN library needs to have matching major version and equal or higher minor version. If using a binary install, upgrade your CuDNN library.  If building from sources, make sure the library loaded at runtime is compatible with the version specified during compile configuration.\n",
      "2023-10-31 20:59:10.643410: W tensorflow/core/framework/op_kernel.cc:1839] OP_REQUIRES failed at xla_ops.cc:624 : FAILED_PRECONDITION: DNN library initialization failed. Look at the errors above for more details.\n",
      "2023-10-31 20:59:10.650491: E tensorflow/compiler/xla/stream_executor/cuda/cuda_dnn.cc:435] Loaded runtime CuDNN library: 8.5.0 but source was compiled with: 8.6.0.  CuDNN library needs to have matching major version and equal or higher minor version. If using a binary install, upgrade your CuDNN library.  If building from sources, make sure the library loaded at runtime is compatible with the version specified during compile configuration.\n",
      "2023-10-31 20:59:10.651662: W tensorflow/core/framework/op_kernel.cc:1839] OP_REQUIRES failed at xla_ops.cc:624 : FAILED_PRECONDITION: DNN library initialization failed. Look at the errors above for more details.\n"
     ]
    },
    {
     "ename": "FailedPreconditionError",
     "evalue": "Graph execution error:\n\nDetected at node Adam/StatefulPartitionedCall_4 defined at (most recent call last):\n  File \"/home/j/miniconda3/envs/gen/lib/python3.9/runpy.py\", line 197, in _run_module_as_main\n\n  File \"/home/j/miniconda3/envs/gen/lib/python3.9/runpy.py\", line 87, in _run_code\n\n  File \"/home/j/miniconda3/envs/gen/lib/python3.9/site-packages/ipykernel_launcher.py\", line 17, in <module>\n\n  File \"/home/j/miniconda3/envs/gen/lib/python3.9/site-packages/traitlets/config/application.py\", line 992, in launch_instance\n\n  File \"/home/j/miniconda3/envs/gen/lib/python3.9/site-packages/ipykernel/kernelapp.py\", line 736, in start\n\n  File \"/home/j/miniconda3/envs/gen/lib/python3.9/site-packages/tornado/platform/asyncio.py\", line 195, in start\n\n  File \"/home/j/miniconda3/envs/gen/lib/python3.9/asyncio/base_events.py\", line 601, in run_forever\n\n  File \"/home/j/miniconda3/envs/gen/lib/python3.9/asyncio/base_events.py\", line 1905, in _run_once\n\n  File \"/home/j/miniconda3/envs/gen/lib/python3.9/asyncio/events.py\", line 80, in _run\n\n  File \"/home/j/miniconda3/envs/gen/lib/python3.9/site-packages/ipykernel/kernelbase.py\", line 516, in dispatch_queue\n\n  File \"/home/j/miniconda3/envs/gen/lib/python3.9/site-packages/ipykernel/kernelbase.py\", line 505, in process_one\n\n  File \"/home/j/miniconda3/envs/gen/lib/python3.9/site-packages/ipykernel/kernelbase.py\", line 412, in dispatch_shell\n\n  File \"/home/j/miniconda3/envs/gen/lib/python3.9/site-packages/ipykernel/kernelbase.py\", line 740, in execute_request\n\n  File \"/home/j/miniconda3/envs/gen/lib/python3.9/site-packages/ipykernel/ipkernel.py\", line 422, in do_execute\n\n  File \"/home/j/miniconda3/envs/gen/lib/python3.9/site-packages/ipykernel/zmqshell.py\", line 546, in run_cell\n\n  File \"/home/j/miniconda3/envs/gen/lib/python3.9/site-packages/IPython/core/interactiveshell.py\", line 3024, in run_cell\n\n  File \"/home/j/miniconda3/envs/gen/lib/python3.9/site-packages/IPython/core/interactiveshell.py\", line 3079, in _run_cell\n\n  File \"/home/j/miniconda3/envs/gen/lib/python3.9/site-packages/IPython/core/async_helpers.py\", line 129, in _pseudo_sync_runner\n\n  File \"/home/j/miniconda3/envs/gen/lib/python3.9/site-packages/IPython/core/interactiveshell.py\", line 3284, in run_cell_async\n\n  File \"/home/j/miniconda3/envs/gen/lib/python3.9/site-packages/IPython/core/interactiveshell.py\", line 3466, in run_ast_nodes\n\n  File \"/home/j/miniconda3/envs/gen/lib/python3.9/site-packages/IPython/core/interactiveshell.py\", line 3526, in run_code\n\n  File \"/tmp/ipykernel_1156/2707569925.py\", line 31, in <module>\n\n  File \"/home/j/miniconda3/envs/gen/lib/python3.9/site-packages/keras/src/utils/traceback_utils.py\", line 65, in error_handler\n\n  File \"/home/j/miniconda3/envs/gen/lib/python3.9/site-packages/keras/src/engine/training.py\", line 1783, in fit\n\n  File \"/home/j/miniconda3/envs/gen/lib/python3.9/site-packages/keras/src/engine/training.py\", line 1377, in train_function\n\n  File \"/home/j/miniconda3/envs/gen/lib/python3.9/site-packages/keras/src/engine/training.py\", line 1360, in step_function\n\n  File \"/home/j/miniconda3/envs/gen/lib/python3.9/site-packages/keras/src/engine/training.py\", line 1349, in run_step\n\n  File \"/home/j/miniconda3/envs/gen/lib/python3.9/site-packages/keras/src/engine/training.py\", line 1130, in train_step\n\n  File \"/home/j/miniconda3/envs/gen/lib/python3.9/site-packages/keras/src/optimizers/optimizer.py\", line 544, in minimize\n\n  File \"/home/j/miniconda3/envs/gen/lib/python3.9/site-packages/keras/src/optimizers/optimizer.py\", line 1223, in apply_gradients\n\n  File \"/home/j/miniconda3/envs/gen/lib/python3.9/site-packages/keras/src/optimizers/optimizer.py\", line 652, in apply_gradients\n\n  File \"/home/j/miniconda3/envs/gen/lib/python3.9/site-packages/keras/src/optimizers/optimizer.py\", line 1253, in _internal_apply_gradients\n\n  File \"/home/j/miniconda3/envs/gen/lib/python3.9/site-packages/keras/src/optimizers/optimizer.py\", line 1345, in _distributed_apply_gradients_fn\n\n  File \"/home/j/miniconda3/envs/gen/lib/python3.9/site-packages/keras/src/optimizers/optimizer.py\", line 1340, in apply_grad_to_update_var\n\nDNN library initialization failed. Look at the errors above for more details.\n\t [[{{node Adam/StatefulPartitionedCall_4}}]] [Op:__inference_train_function_7945]",
     "output_type": "error",
     "traceback": [
      "\u001b[0;31m---------------------------------------------------------------------------\u001b[0m",
      "\u001b[0;31mFailedPreconditionError\u001b[0m                   Traceback (most recent call last)",
      "\u001b[1;32m/home/j/usfq/DataMining/Data_Mining/proyecto7/proyecto7.ipynb Cell 4\u001b[0m line \u001b[0;36m3\n\u001b[1;32m     <a href='vscode-notebook-cell://wsl%2Bubuntu/home/j/usfq/DataMining/Data_Mining/proyecto7/proyecto7.ipynb#W3sdnNjb2RlLXJlbW90ZQ%3D%3D?line=24'>25</a>\u001b[0m \u001b[39m#optimizer = tf.keras.optimizers.Adam(learning_rate=0.001)\u001b[39;00m\n\u001b[1;32m     <a href='vscode-notebook-cell://wsl%2Bubuntu/home/j/usfq/DataMining/Data_Mining/proyecto7/proyecto7.ipynb#W3sdnNjb2RlLXJlbW90ZQ%3D%3D?line=25'>26</a>\u001b[0m model\u001b[39m.\u001b[39mcompile(optimizer\u001b[39m=\u001b[39m\u001b[39m'\u001b[39m\u001b[39madam\u001b[39m\u001b[39m'\u001b[39m,\n\u001b[1;32m     <a href='vscode-notebook-cell://wsl%2Bubuntu/home/j/usfq/DataMining/Data_Mining/proyecto7/proyecto7.ipynb#W3sdnNjb2RlLXJlbW90ZQ%3D%3D?line=26'>27</a>\u001b[0m             loss\u001b[39m=\u001b[39m\u001b[39m'\u001b[39m\u001b[39mbinary_crossentropy\u001b[39m\u001b[39m'\u001b[39m,\n\u001b[1;32m     <a href='vscode-notebook-cell://wsl%2Bubuntu/home/j/usfq/DataMining/Data_Mining/proyecto7/proyecto7.ipynb#W3sdnNjb2RlLXJlbW90ZQ%3D%3D?line=27'>28</a>\u001b[0m             metrics\u001b[39m=\u001b[39m[\u001b[39m'\u001b[39m\u001b[39maccuracy\u001b[39m\u001b[39m'\u001b[39m],\n\u001b[1;32m     <a href='vscode-notebook-cell://wsl%2Bubuntu/home/j/usfq/DataMining/Data_Mining/proyecto7/proyecto7.ipynb#W3sdnNjb2RlLXJlbW90ZQ%3D%3D?line=28'>29</a>\u001b[0m             )\n\u001b[0;32m---> <a href='vscode-notebook-cell://wsl%2Bubuntu/home/j/usfq/DataMining/Data_Mining/proyecto7/proyecto7.ipynb#W3sdnNjb2RlLXJlbW90ZQ%3D%3D?line=30'>31</a>\u001b[0m model\u001b[39m.\u001b[39;49mfit(X_train, y_train, epochs\u001b[39m=\u001b[39;49m\u001b[39m10\u001b[39;49m, batch_size\u001b[39m=\u001b[39;49m\u001b[39m32\u001b[39;49m)\n",
      "File \u001b[0;32m~/miniconda3/envs/gen/lib/python3.9/site-packages/keras/src/utils/traceback_utils.py:70\u001b[0m, in \u001b[0;36mfilter_traceback.<locals>.error_handler\u001b[0;34m(*args, **kwargs)\u001b[0m\n\u001b[1;32m     67\u001b[0m     filtered_tb \u001b[39m=\u001b[39m _process_traceback_frames(e\u001b[39m.\u001b[39m__traceback__)\n\u001b[1;32m     68\u001b[0m     \u001b[39m# To get the full stack trace, call:\u001b[39;00m\n\u001b[1;32m     69\u001b[0m     \u001b[39m# `tf.debugging.disable_traceback_filtering()`\u001b[39;00m\n\u001b[0;32m---> 70\u001b[0m     \u001b[39mraise\u001b[39;00m e\u001b[39m.\u001b[39mwith_traceback(filtered_tb) \u001b[39mfrom\u001b[39;00m \u001b[39mNone\u001b[39;00m\n\u001b[1;32m     71\u001b[0m \u001b[39mfinally\u001b[39;00m:\n\u001b[1;32m     72\u001b[0m     \u001b[39mdel\u001b[39;00m filtered_tb\n",
      "File \u001b[0;32m~/miniconda3/envs/gen/lib/python3.9/site-packages/tensorflow/python/eager/execute.py:60\u001b[0m, in \u001b[0;36mquick_execute\u001b[0;34m(op_name, num_outputs, inputs, attrs, ctx, name)\u001b[0m\n\u001b[1;32m     53\u001b[0m   \u001b[39m# Convert any objects of type core_types.Tensor to Tensor.\u001b[39;00m\n\u001b[1;32m     54\u001b[0m   inputs \u001b[39m=\u001b[39m [\n\u001b[1;32m     55\u001b[0m       tensor_conversion_registry\u001b[39m.\u001b[39mconvert(t)\n\u001b[1;32m     56\u001b[0m       \u001b[39mif\u001b[39;00m \u001b[39misinstance\u001b[39m(t, core_types\u001b[39m.\u001b[39mTensor)\n\u001b[1;32m     57\u001b[0m       \u001b[39melse\u001b[39;00m t\n\u001b[1;32m     58\u001b[0m       \u001b[39mfor\u001b[39;00m t \u001b[39min\u001b[39;00m inputs\n\u001b[1;32m     59\u001b[0m   ]\n\u001b[0;32m---> 60\u001b[0m   tensors \u001b[39m=\u001b[39m pywrap_tfe\u001b[39m.\u001b[39mTFE_Py_Execute(ctx\u001b[39m.\u001b[39m_handle, device_name, op_name,\n\u001b[1;32m     61\u001b[0m                                       inputs, attrs, num_outputs)\n\u001b[1;32m     62\u001b[0m \u001b[39mexcept\u001b[39;00m core\u001b[39m.\u001b[39m_NotOkStatusException \u001b[39mas\u001b[39;00m e:\n\u001b[1;32m     63\u001b[0m   \u001b[39mif\u001b[39;00m name \u001b[39mis\u001b[39;00m \u001b[39mnot\u001b[39;00m \u001b[39mNone\u001b[39;00m:\n",
      "\u001b[0;31mFailedPreconditionError\u001b[0m: Graph execution error:\n\nDetected at node Adam/StatefulPartitionedCall_4 defined at (most recent call last):\n  File \"/home/j/miniconda3/envs/gen/lib/python3.9/runpy.py\", line 197, in _run_module_as_main\n\n  File \"/home/j/miniconda3/envs/gen/lib/python3.9/runpy.py\", line 87, in _run_code\n\n  File \"/home/j/miniconda3/envs/gen/lib/python3.9/site-packages/ipykernel_launcher.py\", line 17, in <module>\n\n  File \"/home/j/miniconda3/envs/gen/lib/python3.9/site-packages/traitlets/config/application.py\", line 992, in launch_instance\n\n  File \"/home/j/miniconda3/envs/gen/lib/python3.9/site-packages/ipykernel/kernelapp.py\", line 736, in start\n\n  File \"/home/j/miniconda3/envs/gen/lib/python3.9/site-packages/tornado/platform/asyncio.py\", line 195, in start\n\n  File \"/home/j/miniconda3/envs/gen/lib/python3.9/asyncio/base_events.py\", line 601, in run_forever\n\n  File \"/home/j/miniconda3/envs/gen/lib/python3.9/asyncio/base_events.py\", line 1905, in _run_once\n\n  File \"/home/j/miniconda3/envs/gen/lib/python3.9/asyncio/events.py\", line 80, in _run\n\n  File \"/home/j/miniconda3/envs/gen/lib/python3.9/site-packages/ipykernel/kernelbase.py\", line 516, in dispatch_queue\n\n  File \"/home/j/miniconda3/envs/gen/lib/python3.9/site-packages/ipykernel/kernelbase.py\", line 505, in process_one\n\n  File \"/home/j/miniconda3/envs/gen/lib/python3.9/site-packages/ipykernel/kernelbase.py\", line 412, in dispatch_shell\n\n  File \"/home/j/miniconda3/envs/gen/lib/python3.9/site-packages/ipykernel/kernelbase.py\", line 740, in execute_request\n\n  File \"/home/j/miniconda3/envs/gen/lib/python3.9/site-packages/ipykernel/ipkernel.py\", line 422, in do_execute\n\n  File \"/home/j/miniconda3/envs/gen/lib/python3.9/site-packages/ipykernel/zmqshell.py\", line 546, in run_cell\n\n  File \"/home/j/miniconda3/envs/gen/lib/python3.9/site-packages/IPython/core/interactiveshell.py\", line 3024, in run_cell\n\n  File \"/home/j/miniconda3/envs/gen/lib/python3.9/site-packages/IPython/core/interactiveshell.py\", line 3079, in _run_cell\n\n  File \"/home/j/miniconda3/envs/gen/lib/python3.9/site-packages/IPython/core/async_helpers.py\", line 129, in _pseudo_sync_runner\n\n  File \"/home/j/miniconda3/envs/gen/lib/python3.9/site-packages/IPython/core/interactiveshell.py\", line 3284, in run_cell_async\n\n  File \"/home/j/miniconda3/envs/gen/lib/python3.9/site-packages/IPython/core/interactiveshell.py\", line 3466, in run_ast_nodes\n\n  File \"/home/j/miniconda3/envs/gen/lib/python3.9/site-packages/IPython/core/interactiveshell.py\", line 3526, in run_code\n\n  File \"/tmp/ipykernel_1156/2707569925.py\", line 31, in <module>\n\n  File \"/home/j/miniconda3/envs/gen/lib/python3.9/site-packages/keras/src/utils/traceback_utils.py\", line 65, in error_handler\n\n  File \"/home/j/miniconda3/envs/gen/lib/python3.9/site-packages/keras/src/engine/training.py\", line 1783, in fit\n\n  File \"/home/j/miniconda3/envs/gen/lib/python3.9/site-packages/keras/src/engine/training.py\", line 1377, in train_function\n\n  File \"/home/j/miniconda3/envs/gen/lib/python3.9/site-packages/keras/src/engine/training.py\", line 1360, in step_function\n\n  File \"/home/j/miniconda3/envs/gen/lib/python3.9/site-packages/keras/src/engine/training.py\", line 1349, in run_step\n\n  File \"/home/j/miniconda3/envs/gen/lib/python3.9/site-packages/keras/src/engine/training.py\", line 1130, in train_step\n\n  File \"/home/j/miniconda3/envs/gen/lib/python3.9/site-packages/keras/src/optimizers/optimizer.py\", line 544, in minimize\n\n  File \"/home/j/miniconda3/envs/gen/lib/python3.9/site-packages/keras/src/optimizers/optimizer.py\", line 1223, in apply_gradients\n\n  File \"/home/j/miniconda3/envs/gen/lib/python3.9/site-packages/keras/src/optimizers/optimizer.py\", line 652, in apply_gradients\n\n  File \"/home/j/miniconda3/envs/gen/lib/python3.9/site-packages/keras/src/optimizers/optimizer.py\", line 1253, in _internal_apply_gradients\n\n  File \"/home/j/miniconda3/envs/gen/lib/python3.9/site-packages/keras/src/optimizers/optimizer.py\", line 1345, in _distributed_apply_gradients_fn\n\n  File \"/home/j/miniconda3/envs/gen/lib/python3.9/site-packages/keras/src/optimizers/optimizer.py\", line 1340, in apply_grad_to_update_var\n\nDNN library initialization failed. Look at the errors above for more details.\n\t [[{{node Adam/StatefulPartitionedCall_4}}]] [Op:__inference_train_function_7945]"
     ]
    }
   ],
   "source": [
    "#Creacion dinamica de folds y clasificacion y metricas\n",
    "stratified_kfold = StratifiedKFold(n_splits=10, shuffle=True, random_state=42)\n",
    "counter=1\n",
    "\n",
    "#Neural Network\n",
    "for X in reduced_array:\n",
    "    print(\"Set: \",counter)\n",
    "    array_accuracy= []\n",
    "    array_precision= []\n",
    "    array_recall= []\n",
    "    array_auc = []\n",
    "\n",
    "    for fold,(train_index,val_index) in enumerate(stratified_kfold.split(X,y)):\n",
    "            X_train,X_val=X[train_index],X[val_index]\n",
    "            y_train,y_val=y[train_index],y[val_index]\n",
    "\n",
    "            tf.keras.backend.clear_session() # Clear session before building the model\n",
    "\n",
    "            model = tf.keras.models.Sequential([\n",
    "                tf.keras.layers.Dense(6, activation='relu'),\n",
    "                tf.keras.layers.Dense(6, activation='relu'),\n",
    "                tf.keras.layers.Dense(1, activation='softmax')\n",
    "            ])\n",
    "\n",
    "            #optimizer = tf.keras.optimizers.Adam(learning_rate=0.001)\n",
    "            model.compile(optimizer='adam',\n",
    "                        loss='binary_crossentropy',\n",
    "                        metrics=['accuracy'],\n",
    "                        )\n",
    "            \n",
    "            model.fit(X_train, y_train, epochs=10, batch_size=32)\n"
   ]
  },
  {
   "cell_type": "code",
   "execution_count": null,
   "metadata": {},
   "outputs": [
    {
     "name": "stderr",
     "output_type": "stream",
     "text": [
      "2023-10-31 20:57:25.959534: I tensorflow/compiler/xla/stream_executor/cuda/cuda_gpu_executor.cc:880] could not open file to read NUMA node: /sys/bus/pci/devices/0000:01:00.0/numa_node\n",
      "Your kernel may have been built without NUMA support.\n",
      "2023-10-31 20:57:25.959622: I tensorflow/compiler/xla/stream_executor/cuda/cuda_gpu_executor.cc:880] could not open file to read NUMA node: /sys/bus/pci/devices/0000:01:00.0/numa_node\n",
      "Your kernel may have been built without NUMA support.\n",
      "2023-10-31 20:57:25.959642: I tensorflow/compiler/xla/stream_executor/cuda/cuda_gpu_executor.cc:880] could not open file to read NUMA node: /sys/bus/pci/devices/0000:01:00.0/numa_node\n",
      "Your kernel may have been built without NUMA support.\n",
      "2023-10-31 20:57:25.959821: I tensorflow/compiler/xla/stream_executor/cuda/cuda_gpu_executor.cc:880] could not open file to read NUMA node: /sys/bus/pci/devices/0000:01:00.0/numa_node\n",
      "Your kernel may have been built without NUMA support.\n",
      "2023-10-31 20:57:25.959838: I tensorflow/core/common_runtime/gpu/gpu_device.cc:1977] Could not identify NUMA node of platform GPU id 0, defaulting to 0.  Your kernel may not have been built with NUMA support.\n",
      "2023-10-31 20:57:25.959873: I tensorflow/compiler/xla/stream_executor/cuda/cuda_gpu_executor.cc:880] could not open file to read NUMA node: /sys/bus/pci/devices/0000:01:00.0/numa_node\n",
      "Your kernel may have been built without NUMA support.\n",
      "2023-10-31 20:57:25.959898: I tensorflow/core/common_runtime/gpu/gpu_device.cc:1886] Created device /job:localhost/replica:0/task:0/device:GPU:0 with 9516 MB memory:  -> device: 0, name: NVIDIA GeForce RTX 4070 Ti, pci bus id: 0000:01:00.0, compute capability: 8.9\n"
     ]
    }
   ],
   "source": [
    "import tensorflow as tf\n",
    "config = tf.compat.v1.ConfigProto()\n",
    "config.gpu_options.per_process_gpu_memory_fraction = 0.3  # Adjust this value as needed\n",
    "tf.compat.v1.keras.backend.set_session(tf.compat.v1.Session(config=config))\n",
    "\n"
   ]
  }
 ],
 "metadata": {
  "kernelspec": {
   "display_name": "Python 3",
   "language": "python",
   "name": "python3"
  },
  "language_info": {
   "codemirror_mode": {
    "name": "ipython",
    "version": 3
   },
   "file_extension": ".py",
   "mimetype": "text/x-python",
   "name": "python",
   "nbconvert_exporter": "python",
   "pygments_lexer": "ipython3",
   "version": "3.9.18"
  }
 },
 "nbformat": 4,
 "nbformat_minor": 2
}
